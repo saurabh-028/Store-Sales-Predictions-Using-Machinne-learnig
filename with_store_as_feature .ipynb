{
 "cells": [
  {
   "cell_type": "code",
   "execution_count": null,
   "id": "215fa5a7",
   "metadata": {},
   "outputs": [],
   "source": [
    "import numpy as np\n",
    "import pandas as pd\n",
    "\n",
    "import warnings\n",
    "warnings.filterwarnings('ignore')\n",
    "\n",
    "import matplotlib.pyplot as plt\n",
    "import seaborn as sns\n",
    "\n",
    "from sklearn.linear_model import LinearRegression\n",
    "from sklearn.metrics import mean_squared_error\n",
    "from sklearn.metrics import mean_absolute_error\n",
    "from sklearn.metrics import accuracy_score\n",
    "from sklearn.metrics import r2_score\n",
    "\n",
    "from sklearn.linear_model import Ridge\n",
    "from sklearn.tree import DecisionTreeRegressor\n",
    "from sklearn.ensemble import RandomForestRegressor\n",
    "from sklearn.ensemble import AdaBoostRegressor\n",
    "from sklearn.ensemble import GradientBoostingRegressor\n",
    "from sklearn.svm import SVR\n",
    "\n",
    "from statsmodels.tsa.stattools import adfuller\n",
    "from pylab import rcParams\n",
    "import statsmodels.api as sm\n",
    "from statsmodels.tsa.arima_model import ARIMA\n",
    "\n",
    "import tensorflow as tf\n",
    "from tensorflow.keras.models import Sequential\n",
    "from tensorflow.keras.layers import Dense, Flatten, Dropout"
   ]
  },
  {
   "cell_type": "code",
   "execution_count": null,
   "id": "af4f0cf6",
   "metadata": {},
   "outputs": [],
   "source": [
    "train = pd.read_csv(\"train_data.csv\")"
   ]
  },
  {
   "cell_type": "code",
   "execution_count": null,
   "id": "283e5c4d",
   "metadata": {},
   "outputs": [],
   "source": [
    "train.info()"
   ]
  },
  {
   "cell_type": "code",
   "execution_count": null,
   "id": "f9a57d16",
   "metadata": {},
   "outputs": [],
   "source": [
    "train.memory_usage().sum() / 1024**2"
   ]
  },
  {
   "cell_type": "code",
   "execution_count": null,
   "id": "bf639497",
   "metadata": {},
   "outputs": [],
   "source": [
    "def reduce_mem_usage(df):\n",
    "    \"\"\" iterate through all the columns of a dataframe and modify the data type\n",
    "        to reduce memory usage.        \n",
    "    \"\"\"\n",
    "    start_mem = df.memory_usage().sum() / 1024**2\n",
    "    print('Memory usage of dataframe is {:.2f} MB'.format(start_mem))\n",
    "    \n",
    "    for col in df.columns:\n",
    "        col_type = df[col].dtype\n",
    "        \n",
    "        if col_type != object:\n",
    "            c_min = df[col].min()\n",
    "            c_max = df[col].max()\n",
    "            if str(col_type)[:3] == 'int':\n",
    "                if c_min > np.iinfo(np.int8).min and c_max < np.iinfo(np.int8).max:\n",
    "                    df[col] = df[col].astype(np.int8)\n",
    "                elif c_min > np.iinfo(np.int16).min and c_max < np.iinfo(np.int16).max:\n",
    "                    df[col] = df[col].astype(np.int16)\n",
    "                elif c_min > np.iinfo(np.int32).min and c_max < np.iinfo(np.int32).max:\n",
    "                    df[col] = df[col].astype(np.int32)\n",
    "                elif c_min > np.iinfo(np.int64).min and c_max < np.iinfo(np.int64).max:\n",
    "                    df[col] = df[col].astype(np.int64)  \n",
    "            else:\n",
    "                if c_min > np.finfo(np.float16).min and c_max < np.finfo(np.float16).max:\n",
    "                    df[col] = df[col].astype(np.float16)\n",
    "                elif c_min > np.finfo(np.float32).min and c_max < np.finfo(np.float32).max:\n",
    "                    df[col] = df[col].astype(np.float32)\n",
    "                else:\n",
    "                    df[col] = df[col].astype(np.float64)\n",
    "        else:\n",
    "            df[col] = df[col].astype('category')\n",
    "\n",
    "    end_mem = df.memory_usage().sum() / 1024**2\n",
    "    print('Memory usage after optimization is: {:.2f} MB'.format(end_mem))\n",
    "    print('Decreased by {:.1f}%'.format(100 * (start_mem - end_mem) / start_mem))\n",
    "    \n",
    "    return df\n",
    "\n",
    "\n",
    "def import_data(file):\n",
    "    \"\"\"create a dataframe and optimize its memory usage\"\"\"\n",
    "    df = pd.read_csv(file, parse_dates=True, keep_date_col=True)\n",
    "    df = reduce_mem_usage(df)\n",
    "    return df"
   ]
  },
  {
   "cell_type": "code",
   "execution_count": null,
   "id": "552a66d0",
   "metadata": {},
   "outputs": [],
   "source": [
    "train = import_data(\"train_data.csv\")"
   ]
  },
  {
   "cell_type": "code",
   "execution_count": null,
   "id": "f72ba06d",
   "metadata": {},
   "outputs": [],
   "source": [
    "train.info()"
   ]
  },
  {
   "cell_type": "code",
   "execution_count": null,
   "id": "f2b379ef",
   "metadata": {},
   "outputs": [],
   "source": [
    "train.memory_usage(index=False)"
   ]
  },
  {
   "cell_type": "code",
   "execution_count": null,
   "id": "82409081",
   "metadata": {
    "scrolled": true
   },
   "outputs": [],
   "source": [
    "test = import_data(\"test_data_hidden.csv\")"
   ]
  },
  {
   "cell_type": "code",
   "execution_count": null,
   "id": "d47e9429",
   "metadata": {
    "scrolled": true
   },
   "outputs": [],
   "source": [
    "train.head()"
   ]
  },
  {
   "cell_type": "code",
   "execution_count": null,
   "id": "5bb89d4e",
   "metadata": {},
   "outputs": [],
   "source": [
    "test.head()"
   ]
  },
  {
   "cell_type": "code",
   "execution_count": null,
   "id": "55b82010",
   "metadata": {},
   "outputs": [],
   "source": [
    "train['year'] = pd.to_datetime(train['Date']).dt.year\n",
    "test['year'] = pd.to_datetime(test['Date']).dt.year"
   ]
  },
  {
   "cell_type": "code",
   "execution_count": null,
   "id": "66f3c1ba",
   "metadata": {},
   "outputs": [],
   "source": [
    "train = train[train['year'] != 2013]"
   ]
  },
  {
   "cell_type": "code",
   "execution_count": null,
   "id": "bd29391f",
   "metadata": {},
   "outputs": [],
   "source": [
    "train = train[train.Open == 1]"
   ]
  },
  {
   "cell_type": "code",
   "execution_count": null,
   "id": "52fa629c",
   "metadata": {
    "scrolled": true
   },
   "outputs": [],
   "source": [
    "test.isnull().sum()"
   ]
  },
  {
   "cell_type": "code",
   "execution_count": null,
   "id": "625480af",
   "metadata": {},
   "outputs": [],
   "source": [
    "train.describe()"
   ]
  },
  {
   "cell_type": "code",
   "execution_count": null,
   "id": "f49e7118",
   "metadata": {},
   "outputs": [],
   "source": [
    "train.columns"
   ]
  },
  {
   "cell_type": "code",
   "execution_count": null,
   "id": "cefab70b",
   "metadata": {},
   "outputs": [],
   "source": [
    "for column in train:\n",
    "    if column != 'Date':\n",
    "        print(column,'\\n','Unique values: ', train[column].unique(),'\\n', \n",
    "              'number of unique values', train[column].nunique(), '\\n', '-'*100)"
   ]
  },
  {
   "cell_type": "code",
   "execution_count": null,
   "id": "d87f4837",
   "metadata": {},
   "outputs": [],
   "source": [
    "train[\"StateHoliday\"] = train[\"StateHoliday\"].replace({\"0\":0, \"a\":1, \"b\":2, \"c\":3})\n",
    "\n",
    "train[\"Month\"]= pd.to_datetime(train[\"Date\"]).dt.month\n",
    "train[\"Day\"]= pd.to_datetime(train[\"Date\"]).dt.day\n",
    "\n",
    "train.drop(['Date', 'Customers'], axis=1, inplace=True)"
   ]
  },
  {
   "cell_type": "code",
   "execution_count": null,
   "id": "6df63fe6",
   "metadata": {
    "scrolled": true
   },
   "outputs": [],
   "source": [
    "train.head()"
   ]
  },
  {
   "cell_type": "code",
   "execution_count": null,
   "id": "ba4bda81",
   "metadata": {
    "scrolled": false
   },
   "outputs": [],
   "source": [
    "test[\"StateHoliday\"] = test[\"StateHoliday\"].replace({\"0\":0, \"a\":1, \"b\":2, \"c\":3})\n",
    "\n",
    "test[\"Month\"]= pd.to_datetime(test[\"Date\"]).dt.month\n",
    "test[\"Day\"]= pd.to_datetime(test[\"Date\"]).dt.day\n",
    "\n",
    "test.drop(['Date', 'Customers'], axis=1, inplace=True)"
   ]
  },
  {
   "cell_type": "code",
   "execution_count": null,
   "id": "63487d93",
   "metadata": {},
   "outputs": [],
   "source": [
    "train_dummies = pd.get_dummies(data=train, columns=['Store'])"
   ]
  },
  {
   "cell_type": "code",
   "execution_count": null,
   "id": "012998a5",
   "metadata": {
    "scrolled": true
   },
   "outputs": [],
   "source": [
    "train_dummies.memory_usage().sum() / 1024**2\n",
    "#before reduce_size:- 623.11692237854 "
   ]
  },
  {
   "cell_type": "code",
   "execution_count": null,
   "id": "155ef898",
   "metadata": {},
   "outputs": [],
   "source": [
    "test = reduce_mem_usage(test)"
   ]
  },
  {
   "cell_type": "code",
   "execution_count": null,
   "id": "83eac72d",
   "metadata": {},
   "outputs": [],
   "source": [
    "test_dummies = pd.get_dummies(data=test, columns=['Store'])"
   ]
  },
  {
   "cell_type": "code",
   "execution_count": null,
   "id": "b26f2cab",
   "metadata": {},
   "outputs": [],
   "source": [
    "test_dummies.memory_usage().sum() / 1024**2"
   ]
  },
  {
   "cell_type": "code",
   "execution_count": null,
   "id": "2cd603aa",
   "metadata": {},
   "outputs": [],
   "source": [
    "train_dummies.head()"
   ]
  },
  {
   "cell_type": "code",
   "execution_count": null,
   "id": "36407b96",
   "metadata": {},
   "outputs": [],
   "source": [
    "train_dummies.info()"
   ]
  },
  {
   "cell_type": "code",
   "execution_count": null,
   "id": "c2c2685d",
   "metadata": {},
   "outputs": [],
   "source": [
    "train_dummies.memory_usage(index=False)"
   ]
  },
  {
   "cell_type": "code",
   "execution_count": null,
   "id": "733c941b",
   "metadata": {},
   "outputs": [],
   "source": [
    "test_dummies.head()"
   ]
  },
  {
   "cell_type": "code",
   "execution_count": null,
   "id": "b6986e3d",
   "metadata": {},
   "outputs": [],
   "source": [
    "train_dummies.shape"
   ]
  },
  {
   "cell_type": "code",
   "execution_count": null,
   "id": "b2efc734",
   "metadata": {},
   "outputs": [],
   "source": [
    "test_dummies.shape"
   ]
  },
  {
   "cell_type": "code",
   "execution_count": 217,
   "id": "e1b75246",
   "metadata": {},
   "outputs": [
    {
     "data": {
      "text/html": [
       "<div>\n",
       "<style scoped>\n",
       "    .dataframe tbody tr th:only-of-type {\n",
       "        vertical-align: middle;\n",
       "    }\n",
       "\n",
       "    .dataframe tbody tr th {\n",
       "        vertical-align: top;\n",
       "    }\n",
       "\n",
       "    .dataframe thead th {\n",
       "        text-align: right;\n",
       "    }\n",
       "</style>\n",
       "<table border=\"1\" class=\"dataframe\">\n",
       "  <thead>\n",
       "    <tr style=\"text-align: right;\">\n",
       "      <th></th>\n",
       "      <th>DayOfWeek</th>\n",
       "      <th>Sales</th>\n",
       "      <th>Open</th>\n",
       "      <th>Promo</th>\n",
       "      <th>StateHoliday</th>\n",
       "      <th>SchoolHoliday</th>\n",
       "      <th>year</th>\n",
       "      <th>Month</th>\n",
       "      <th>Day</th>\n",
       "      <th>Store_1</th>\n",
       "      <th>...</th>\n",
       "      <th>Store_1106</th>\n",
       "      <th>Store_1107</th>\n",
       "      <th>Store_1108</th>\n",
       "      <th>Store_1109</th>\n",
       "      <th>Store_1110</th>\n",
       "      <th>Store_1111</th>\n",
       "      <th>Store_1112</th>\n",
       "      <th>Store_1113</th>\n",
       "      <th>Store_1114</th>\n",
       "      <th>Store_1115</th>\n",
       "    </tr>\n",
       "  </thead>\n",
       "  <tbody>\n",
       "    <tr>\n",
       "      <th>0</th>\n",
       "      <td>5</td>\n",
       "      <td>5263</td>\n",
       "      <td>1</td>\n",
       "      <td>1</td>\n",
       "      <td>0</td>\n",
       "      <td>1</td>\n",
       "      <td>2015</td>\n",
       "      <td>7</td>\n",
       "      <td>31</td>\n",
       "      <td>1</td>\n",
       "      <td>...</td>\n",
       "      <td>0</td>\n",
       "      <td>0</td>\n",
       "      <td>0</td>\n",
       "      <td>0</td>\n",
       "      <td>0</td>\n",
       "      <td>0</td>\n",
       "      <td>0</td>\n",
       "      <td>0</td>\n",
       "      <td>0</td>\n",
       "      <td>0</td>\n",
       "    </tr>\n",
       "    <tr>\n",
       "      <th>1</th>\n",
       "      <td>5</td>\n",
       "      <td>6064</td>\n",
       "      <td>1</td>\n",
       "      <td>1</td>\n",
       "      <td>0</td>\n",
       "      <td>1</td>\n",
       "      <td>2015</td>\n",
       "      <td>7</td>\n",
       "      <td>31</td>\n",
       "      <td>0</td>\n",
       "      <td>...</td>\n",
       "      <td>0</td>\n",
       "      <td>0</td>\n",
       "      <td>0</td>\n",
       "      <td>0</td>\n",
       "      <td>0</td>\n",
       "      <td>0</td>\n",
       "      <td>0</td>\n",
       "      <td>0</td>\n",
       "      <td>0</td>\n",
       "      <td>0</td>\n",
       "    </tr>\n",
       "    <tr>\n",
       "      <th>2</th>\n",
       "      <td>5</td>\n",
       "      <td>8314</td>\n",
       "      <td>1</td>\n",
       "      <td>1</td>\n",
       "      <td>0</td>\n",
       "      <td>1</td>\n",
       "      <td>2015</td>\n",
       "      <td>7</td>\n",
       "      <td>31</td>\n",
       "      <td>0</td>\n",
       "      <td>...</td>\n",
       "      <td>0</td>\n",
       "      <td>0</td>\n",
       "      <td>0</td>\n",
       "      <td>0</td>\n",
       "      <td>0</td>\n",
       "      <td>0</td>\n",
       "      <td>0</td>\n",
       "      <td>0</td>\n",
       "      <td>0</td>\n",
       "      <td>0</td>\n",
       "    </tr>\n",
       "    <tr>\n",
       "      <th>3</th>\n",
       "      <td>5</td>\n",
       "      <td>13995</td>\n",
       "      <td>1</td>\n",
       "      <td>1</td>\n",
       "      <td>0</td>\n",
       "      <td>1</td>\n",
       "      <td>2015</td>\n",
       "      <td>7</td>\n",
       "      <td>31</td>\n",
       "      <td>0</td>\n",
       "      <td>...</td>\n",
       "      <td>0</td>\n",
       "      <td>0</td>\n",
       "      <td>0</td>\n",
       "      <td>0</td>\n",
       "      <td>0</td>\n",
       "      <td>0</td>\n",
       "      <td>0</td>\n",
       "      <td>0</td>\n",
       "      <td>0</td>\n",
       "      <td>0</td>\n",
       "    </tr>\n",
       "    <tr>\n",
       "      <th>4</th>\n",
       "      <td>5</td>\n",
       "      <td>4822</td>\n",
       "      <td>1</td>\n",
       "      <td>1</td>\n",
       "      <td>0</td>\n",
       "      <td>1</td>\n",
       "      <td>2015</td>\n",
       "      <td>7</td>\n",
       "      <td>31</td>\n",
       "      <td>0</td>\n",
       "      <td>...</td>\n",
       "      <td>0</td>\n",
       "      <td>0</td>\n",
       "      <td>0</td>\n",
       "      <td>0</td>\n",
       "      <td>0</td>\n",
       "      <td>0</td>\n",
       "      <td>0</td>\n",
       "      <td>0</td>\n",
       "      <td>0</td>\n",
       "      <td>0</td>\n",
       "    </tr>\n",
       "  </tbody>\n",
       "</table>\n",
       "<p>5 rows × 1124 columns</p>\n",
       "</div>"
      ],
      "text/plain": [
       "   DayOfWeek  Sales  Open  Promo  StateHoliday  SchoolHoliday  year  Month  \\\n",
       "0          5   5263     1      1             0              1  2015      7   \n",
       "1          5   6064     1      1             0              1  2015      7   \n",
       "2          5   8314     1      1             0              1  2015      7   \n",
       "3          5  13995     1      1             0              1  2015      7   \n",
       "4          5   4822     1      1             0              1  2015      7   \n",
       "\n",
       "   Day  Store_1  ...  Store_1106  Store_1107  Store_1108  Store_1109  \\\n",
       "0   31        1  ...           0           0           0           0   \n",
       "1   31        0  ...           0           0           0           0   \n",
       "2   31        0  ...           0           0           0           0   \n",
       "3   31        0  ...           0           0           0           0   \n",
       "4   31        0  ...           0           0           0           0   \n",
       "\n",
       "   Store_1110  Store_1111  Store_1112  Store_1113  Store_1114  Store_1115  \n",
       "0           0           0           0           0           0           0  \n",
       "1           0           0           0           0           0           0  \n",
       "2           0           0           0           0           0           0  \n",
       "3           0           0           0           0           0           0  \n",
       "4           0           0           0           0           0           0  \n",
       "\n",
       "[5 rows x 1124 columns]"
      ]
     },
     "execution_count": 217,
     "metadata": {},
     "output_type": "execute_result"
    }
   ],
   "source": [
    "test_dummies.head()"
   ]
  },
  {
   "cell_type": "code",
   "execution_count": 218,
   "id": "8dad3357",
   "metadata": {},
   "outputs": [],
   "source": [
    "X_train = train_dummies.drop('Sales', axis=1)\n",
    "y_train = train_dummies['Sales']\n",
    "\n",
    "X_test = test_dummies.drop('Sales', axis=1)\n",
    "y_test = test_dummies['Sales']"
   ]
  },
  {
   "cell_type": "code",
   "execution_count": 222,
   "id": "1f24801d",
   "metadata": {},
   "outputs": [
    {
     "name": "stdout",
     "output_type": "stream",
     "text": [
      "Store \n",
      " Unique values:  [   1    2    3 ... 1113 1114 1115] \n",
      " number of unique values 1115 \n",
      " ----------------------------------------------------------------------------------------------------\n",
      "DayOfWeek \n",
      " Unique values:  [2 1 7 6 5 4 3] \n",
      " number of unique values 7 \n",
      " ----------------------------------------------------------------------------------------------------\n",
      "Sales \n",
      " Unique values:  [ 5735  9863 13261 ... 16841 19794 21614] \n",
      " number of unique values 19754 \n",
      " ----------------------------------------------------------------------------------------------------\n",
      "Open \n",
      " Unique values:  [1.] \n",
      " number of unique values 1 \n",
      " ----------------------------------------------------------------------------------------------------\n",
      "Promo \n",
      " Unique values:  [1. 0.] \n",
      " number of unique values 2 \n",
      " ----------------------------------------------------------------------------------------------------\n",
      "StateHoliday \n",
      " Unique values:  [0, 1, 2, 3]\n",
      "Categories (4, int64): [0, 1, 2, 3] \n",
      " number of unique values 4 \n",
      " ----------------------------------------------------------------------------------------------------\n",
      "SchoolHoliday \n",
      " Unique values:  [0. 1.] \n",
      " number of unique values 2 \n",
      " ----------------------------------------------------------------------------------------------------\n",
      "year \n",
      " Unique values:  [2015 2014] \n",
      " number of unique values 2 \n",
      " ----------------------------------------------------------------------------------------------------\n",
      "Month \n",
      " Unique values:  [ 6  5  4  3  2  1 12 11 10  9  8  7] \n",
      " number of unique values 12 \n",
      " ----------------------------------------------------------------------------------------------------\n",
      "Day \n",
      " Unique values:  [30 29 28 27 26 25 24 23 22 21 20 19 18 17 16 15 14 13 12 11 10  9  8  7\n",
      "  6  5  4  3  2  1 31] \n",
      " number of unique values 31 \n",
      " ----------------------------------------------------------------------------------------------------\n"
     ]
    }
   ],
   "source": [
    "for column in test:\n",
    "    if column != 'Date':\n",
    "        print(column,'\\n','Unique values: ', train[column].unique(),'\\n', \n",
    "              'number of unique values', train[column].nunique(), '\\n', '-'*100)"
   ]
  },
  {
   "cell_type": "code",
   "execution_count": 154,
   "id": "de24a89c",
   "metadata": {
    "scrolled": true
   },
   "outputs": [
    {
     "data": {
      "text/html": [
       "<div>\n",
       "<style scoped>\n",
       "    .dataframe tbody tr th:only-of-type {\n",
       "        vertical-align: middle;\n",
       "    }\n",
       "\n",
       "    .dataframe tbody tr th {\n",
       "        vertical-align: top;\n",
       "    }\n",
       "\n",
       "    .dataframe thead th {\n",
       "        text-align: right;\n",
       "    }\n",
       "</style>\n",
       "<table border=\"1\" class=\"dataframe\">\n",
       "  <thead>\n",
       "    <tr style=\"text-align: right;\">\n",
       "      <th></th>\n",
       "      <th>DayOfWeek</th>\n",
       "      <th>Open</th>\n",
       "      <th>Promo</th>\n",
       "      <th>StateHoliday</th>\n",
       "      <th>SchoolHoliday</th>\n",
       "      <th>year</th>\n",
       "      <th>Month</th>\n",
       "      <th>Day</th>\n",
       "      <th>Store_1</th>\n",
       "      <th>Store_2</th>\n",
       "      <th>...</th>\n",
       "      <th>Store_1106</th>\n",
       "      <th>Store_1107</th>\n",
       "      <th>Store_1108</th>\n",
       "      <th>Store_1109</th>\n",
       "      <th>Store_1110</th>\n",
       "      <th>Store_1111</th>\n",
       "      <th>Store_1112</th>\n",
       "      <th>Store_1113</th>\n",
       "      <th>Store_1114</th>\n",
       "      <th>Store_1115</th>\n",
       "    </tr>\n",
       "  </thead>\n",
       "  <tbody>\n",
       "    <tr>\n",
       "      <th>0</th>\n",
       "      <td>5</td>\n",
       "      <td>1</td>\n",
       "      <td>1</td>\n",
       "      <td>0</td>\n",
       "      <td>1</td>\n",
       "      <td>2015</td>\n",
       "      <td>7</td>\n",
       "      <td>31</td>\n",
       "      <td>1</td>\n",
       "      <td>0</td>\n",
       "      <td>...</td>\n",
       "      <td>0</td>\n",
       "      <td>0</td>\n",
       "      <td>0</td>\n",
       "      <td>0</td>\n",
       "      <td>0</td>\n",
       "      <td>0</td>\n",
       "      <td>0</td>\n",
       "      <td>0</td>\n",
       "      <td>0</td>\n",
       "      <td>0</td>\n",
       "    </tr>\n",
       "    <tr>\n",
       "      <th>1</th>\n",
       "      <td>5</td>\n",
       "      <td>1</td>\n",
       "      <td>1</td>\n",
       "      <td>0</td>\n",
       "      <td>1</td>\n",
       "      <td>2015</td>\n",
       "      <td>7</td>\n",
       "      <td>31</td>\n",
       "      <td>0</td>\n",
       "      <td>1</td>\n",
       "      <td>...</td>\n",
       "      <td>0</td>\n",
       "      <td>0</td>\n",
       "      <td>0</td>\n",
       "      <td>0</td>\n",
       "      <td>0</td>\n",
       "      <td>0</td>\n",
       "      <td>0</td>\n",
       "      <td>0</td>\n",
       "      <td>0</td>\n",
       "      <td>0</td>\n",
       "    </tr>\n",
       "    <tr>\n",
       "      <th>2</th>\n",
       "      <td>5</td>\n",
       "      <td>1</td>\n",
       "      <td>1</td>\n",
       "      <td>0</td>\n",
       "      <td>1</td>\n",
       "      <td>2015</td>\n",
       "      <td>7</td>\n",
       "      <td>31</td>\n",
       "      <td>0</td>\n",
       "      <td>0</td>\n",
       "      <td>...</td>\n",
       "      <td>0</td>\n",
       "      <td>0</td>\n",
       "      <td>0</td>\n",
       "      <td>0</td>\n",
       "      <td>0</td>\n",
       "      <td>0</td>\n",
       "      <td>0</td>\n",
       "      <td>0</td>\n",
       "      <td>0</td>\n",
       "      <td>0</td>\n",
       "    </tr>\n",
       "    <tr>\n",
       "      <th>3</th>\n",
       "      <td>5</td>\n",
       "      <td>1</td>\n",
       "      <td>1</td>\n",
       "      <td>0</td>\n",
       "      <td>1</td>\n",
       "      <td>2015</td>\n",
       "      <td>7</td>\n",
       "      <td>31</td>\n",
       "      <td>0</td>\n",
       "      <td>0</td>\n",
       "      <td>...</td>\n",
       "      <td>0</td>\n",
       "      <td>0</td>\n",
       "      <td>0</td>\n",
       "      <td>0</td>\n",
       "      <td>0</td>\n",
       "      <td>0</td>\n",
       "      <td>0</td>\n",
       "      <td>0</td>\n",
       "      <td>0</td>\n",
       "      <td>0</td>\n",
       "    </tr>\n",
       "    <tr>\n",
       "      <th>4</th>\n",
       "      <td>5</td>\n",
       "      <td>1</td>\n",
       "      <td>1</td>\n",
       "      <td>0</td>\n",
       "      <td>1</td>\n",
       "      <td>2015</td>\n",
       "      <td>7</td>\n",
       "      <td>31</td>\n",
       "      <td>0</td>\n",
       "      <td>0</td>\n",
       "      <td>...</td>\n",
       "      <td>0</td>\n",
       "      <td>0</td>\n",
       "      <td>0</td>\n",
       "      <td>0</td>\n",
       "      <td>0</td>\n",
       "      <td>0</td>\n",
       "      <td>0</td>\n",
       "      <td>0</td>\n",
       "      <td>0</td>\n",
       "      <td>0</td>\n",
       "    </tr>\n",
       "  </tbody>\n",
       "</table>\n",
       "<p>5 rows × 1123 columns</p>\n",
       "</div>"
      ],
      "text/plain": [
       "   DayOfWeek  Open  Promo  StateHoliday  SchoolHoliday  year  Month  Day  \\\n",
       "0          5     1      1             0              1  2015      7   31   \n",
       "1          5     1      1             0              1  2015      7   31   \n",
       "2          5     1      1             0              1  2015      7   31   \n",
       "3          5     1      1             0              1  2015      7   31   \n",
       "4          5     1      1             0              1  2015      7   31   \n",
       "\n",
       "   Store_1  Store_2  ...  Store_1106  Store_1107  Store_1108  Store_1109  \\\n",
       "0        1        0  ...           0           0           0           0   \n",
       "1        0        1  ...           0           0           0           0   \n",
       "2        0        0  ...           0           0           0           0   \n",
       "3        0        0  ...           0           0           0           0   \n",
       "4        0        0  ...           0           0           0           0   \n",
       "\n",
       "   Store_1110  Store_1111  Store_1112  Store_1113  Store_1114  Store_1115  \n",
       "0           0           0           0           0           0           0  \n",
       "1           0           0           0           0           0           0  \n",
       "2           0           0           0           0           0           0  \n",
       "3           0           0           0           0           0           0  \n",
       "4           0           0           0           0           0           0  \n",
       "\n",
       "[5 rows x 1123 columns]"
      ]
     },
     "execution_count": 154,
     "metadata": {},
     "output_type": "execute_result"
    }
   ],
   "source": [
    "X_test.head()"
   ]
  },
  {
   "cell_type": "code",
   "execution_count": 155,
   "id": "fd90bab9",
   "metadata": {},
   "outputs": [
    {
     "data": {
      "text/plain": [
       "0     5263\n",
       "1     6064\n",
       "2     8314\n",
       "3    13995\n",
       "4     4822\n",
       "Name: Sales, dtype: int16"
      ]
     },
     "execution_count": 155,
     "metadata": {},
     "output_type": "execute_result"
    }
   ],
   "source": [
    "y_test.head()"
   ]
  },
  {
   "cell_type": "markdown",
   "id": "0dd016ef",
   "metadata": {},
   "source": [
    "# Linear Regression"
   ]
  },
  {
   "cell_type": "code",
   "execution_count": 159,
   "id": "a5f99304",
   "metadata": {},
   "outputs": [
    {
     "name": "stdout",
     "output_type": "stream",
     "text": [
      "R-squared error for training set is:  0.6931806264855469\n",
      "RMSE for training set is:  1503.4992107852731\n",
      "MAE for training set is:  1077.311247437067\n",
      "R-squared error for testing set is:  0.8808065482467128\n",
      "RMSE for testing set is:  1213.3973367361398\n",
      "MAE for testing set is:  860.053526417619\n"
     ]
    }
   ],
   "source": [
    "lr = LinearRegression()\n",
    "lr.fit(X_train, y_train)\n",
    "\n",
    "train_pred = lr.predict(X_train)\n",
    "print('R-squared error for training set is: ', r2_score(train_pred, y_train))\n",
    "print('RMSE for training set is: ', mean_squared_error( train_pred, y_train, squared=False))\n",
    "print('MAE for training set is: ',mean_absolute_error(train_pred, y_train))\n",
    "\n",
    "test_pred = lr.predict(X_test)\n",
    "ind=X_test[X_test.Open == 0].index\n",
    "for i in ind:\n",
    "    test_pred[i] = 0\n",
    "print('R-squared error for testing set is: ', r2_score(test_pred, y_test))\n",
    "print('RMSE for testing set is: ', mean_squared_error( test_pred, y_test, squared=False))\n",
    "print('MAE for testing set is: ',mean_absolute_error(test_pred, y_test))\n"
   ]
  },
  {
   "cell_type": "code",
   "execution_count": 179,
   "id": "196e41b3",
   "metadata": {},
   "outputs": [
    {
     "data": {
      "image/png": "[encoded data removed]",
      "text/plain": [
       "<Figure size 1080x504 with 1 Axes>"
      ]
     },
     "metadata": {
      "needs_background": "light"
     },
     "output_type": "display_data"
    }
   ],
   "source": [
    "plt.figure(figsize=(15,7))\n",
    "plt.plot(y_test[:100], marker='o')\n",
    "plt.plot(test_pred[:100], marker='o')\n",
    "plt.title('LR Predictions vs Actuals', size='30')\n",
    "plt.xlabel('Stores')\n",
    "plt.ylabel('Sales')\n",
    "plt.show()"
   ]
  },
  {
   "cell_type": "code",
   "execution_count": 79,
   "id": "efa01f64",
   "metadata": {},
   "outputs": [],
   "source": [
    "def predict_price(DayOfWeek,Open,Promo,StateHoliday,SchoolHoliday,year,Month,Day,Store):    \n",
    "    loc_index = np.where(X_test.columns==Store)[0][0]\n",
    "    \n",
    "    x = np.zeros(len(X_test.columns))\n",
    "    x[0] = DayOfWeek\n",
    "    x[1] = Open\n",
    "    x[2] = Promo\n",
    "    x[3] = StateHoliday\n",
    "    x[4] = SchoolHoliday\n",
    "    x[5] = year\n",
    "    x[6] = Month\n",
    "    x[7] = Day\n",
    "    \n",
    "    if loc_index >= 0:\n",
    "        x[loc_index] = 1\n",
    "\n",
    "    return lr.predict([x])[0]"
   ]
  },
  {
   "cell_type": "code",
   "execution_count": 80,
   "id": "ba8fded3",
   "metadata": {},
   "outputs": [
    {
     "data": {
      "text/plain": [
       "6017.84375"
      ]
     },
     "execution_count": 80,
     "metadata": {},
     "output_type": "execute_result"
    }
   ],
   "source": [
    "predict_price(5,1,1,0,1,2015,7,31,'Store_1')"
   ]
  },
  {
   "cell_type": "code",
   "execution_count": 81,
   "id": "fbf79ebe",
   "metadata": {},
   "outputs": [],
   "source": [
    "from sklearn.linear_model import Ridge, Lasso, ElasticNet"
   ]
  },
  {
   "cell_type": "markdown",
   "id": "688294b3",
   "metadata": {},
   "source": [
    "# Ridge Regression"
   ]
  },
  {
   "cell_type": "code",
   "execution_count": 82,
   "id": "44f230cb",
   "metadata": {},
   "outputs": [
    {
     "name": "stdout",
     "output_type": "stream",
     "text": [
      "R-squared error for training set is:  0.6931806264855469\n",
      "RMSE for training set is:  1503.4992107852731\n",
      "MAE for training set is:  1077.311247437067\n",
      "R-squared error for testing set is:  0.8806443052772656\n",
      "RMSE for testing set is:  1213.1415360628096\n",
      "MAE for testing set is:  860.0445223045427\n"
     ]
    }
   ],
   "source": [
    "ridge = Ridge()\n",
    "\n",
    "ridge.fit(X_train, y_train)\n",
    "train_pred = lr.predict(X_train)\n",
    "print('R-squared error for training set is: ', r2_score(train_pred, y_train))\n",
    "print('RMSE for training set is: ', mean_squared_error( train_pred, y_train, squared=False))\n",
    "print('MAE for training set is: ',mean_absolute_error(train_pred, y_train))\n",
    "\n",
    "test_pred = ridge.predict(X_test)\n",
    "ind=X_test[X_test.Open == 0].index\n",
    "for i in ind:\n",
    "    test_pred[i] = 0\n",
    "print('R-squared error for testing set is: ', r2_score(test_pred, y_test))\n",
    "print('RMSE for testing set is: ', mean_squared_error(test_pred, y_test, squared=False))\n",
    "print('MAE for testing set is: ',mean_absolute_error(test_pred, y_test))"
   ]
  },
  {
   "cell_type": "markdown",
   "id": "28f93720",
   "metadata": {},
   "source": [
    "# Decision Tree Regressor"
   ]
  },
  {
   "cell_type": "code",
   "execution_count": 84,
   "id": "0f8a5ad5",
   "metadata": {},
   "outputs": [
    {
     "name": "stdout",
     "output_type": "stream",
     "text": [
      "R-squared error for training set is:  -1.0608225347835725\n",
      "RMSE for training set is:  2545.795995421883\n",
      "MAE for training set is:  1898.316143156339\n",
      "R-squared error for testing set is:  0.30513275062356204\n",
      "RMSE for testing set is:  2307.955274207968\n",
      "MAE for testing set is:  1609.5561087211772\n"
     ]
    }
   ],
   "source": [
    "dt_reg = DecisionTreeRegressor(max_depth=10,max_features=1000)\n",
    "\n",
    "dt_reg.fit(X_train, y_train)\n",
    "train_pred = dt_reg.predict(X_train)\n",
    "print('R-squared error for training set is: ', r2_score(train_pred, y_train))\n",
    "print('RMSE for training set is: ', mean_squared_error(train_pred, y_train, squared=False))\n",
    "print('MAE for training set is: ',mean_absolute_error(train_pred, y_train))\n",
    "\n",
    "test_pred = dt_reg.predict(X_test)\n",
    "for i in ind:\n",
    "    test_pred[i] = 0\n",
    "\n",
    "print('R-squared error for testing set is: ', r2_score(test_pred, y_test))\n",
    "print('RMSE for testing set is: ', mean_squared_error( test_pred, y_test, squared=False))\n",
    "print('MAE for testing set is: ',mean_absolute_error(test_pred, y_test))"
   ]
  },
  {
   "cell_type": "markdown",
   "id": "df70fc94",
   "metadata": {},
   "source": [
    "# Random Forest"
   ]
  },
  {
   "cell_type": "code",
   "execution_count": 85,
   "id": "a3f84fb1",
   "metadata": {},
   "outputs": [
    {
     "name": "stdout",
     "output_type": "stream",
     "text": [
      "R-squared error for training set is:  -87.10524835476534\n",
      "RMSE for training set is:  2902.906809931425\n",
      "MAE for training set is:  2171.496663355346 \n",
      "\n",
      "\n",
      "R-squared error for testing set is:  -0.18744072608563034\n",
      "RMSE for testing set is:  2572.0928010123607\n",
      "MAE for testing set is:  1804.9207684206665\n"
     ]
    }
   ],
   "source": [
    "rf_reg = RandomForestRegressor(n_estimators=500,\n",
    "                               max_features='sqrt',\n",
    "                               max_depth=6,\n",
    "                               random_state=0,\n",
    "                               n_jobs=7\n",
    "                              )\n",
    "\n",
    "rf_reg.fit(X_train, y_train)\n",
    "\n",
    "train_pred = rf_reg.predict(X_train)\n",
    "print('R-squared error for training set is: ', r2_score(train_pred, y_train))\n",
    "print('RMSE for training set is: ', mean_squared_error( train_pred, y_train, squared=False))\n",
    "print('MAE for training set is: ',mean_absolute_error(train_pred, y_train),'\\n'*2)\n",
    "\n",
    "test_pred = rf_reg.predict(X_test)\n",
    "for i in ind:\n",
    "    test_pred[i] = 0\n",
    "print('R-squared error for testing set is: ', r2_score(test_pred, y_test))\n",
    "print('RMSE for testing set is: ', mean_squared_error( test_pred, y_test, squared=False))\n",
    "print('MAE for testing set is: ',mean_absolute_error(test_pred, y_test))"
   ]
  },
  {
   "cell_type": "markdown",
   "id": "04cd9042",
   "metadata": {},
   "source": [
    "# PCA"
   ]
  },
  {
   "cell_type": "code",
   "execution_count": 87,
   "id": "b29122af",
   "metadata": {},
   "outputs": [
    {
     "data": {
      "image/png": "[encoded data removed]",
      "text/plain": [
       "<Figure size 432x288 with 1 Axes>"
      ]
     },
     "metadata": {
      "needs_background": "light"
     },
     "output_type": "display_data"
    }
   ],
   "source": [
    "pca = PCA()\n",
    "pca.fit(X_train)\n",
    "plt.figure()\n",
    "plt.plot(np.cumsum(pca.explained_variance_ratio_))\n",
    "plt.xlabel('number of features')\n",
    "plt.ylabel('explained variance ratio (%)')\n",
    "plt.show()"
   ]
  },
  {
   "cell_type": "code",
   "execution_count": 89,
   "id": "39f97db2",
   "metadata": {},
   "outputs": [],
   "source": [
    "pca = PCA(n_components=10)\n",
    "X_train_pca=pca.fit_transform(X_train)\n",
    "X_test_pca = pca.transform(X_test)\n"
   ]
  },
  {
   "cell_type": "code",
   "execution_count": 91,
   "id": "eeafa693",
   "metadata": {},
   "outputs": [
    {
     "data": {
      "text/plain": [
       "(34565, 10)"
      ]
     },
     "execution_count": 91,
     "metadata": {},
     "output_type": "execute_result"
    }
   ],
   "source": [
    "X_test_pca.shape"
   ]
  },
  {
   "cell_type": "code",
   "execution_count": 92,
   "id": "ede3e9f2",
   "metadata": {},
   "outputs": [
    {
     "data": {
      "text/plain": [
       "(476261, 10)"
      ]
     },
     "execution_count": 92,
     "metadata": {},
     "output_type": "execute_result"
    }
   ],
   "source": [
    "X_train_pca.shape"
   ]
  },
  {
   "cell_type": "markdown",
   "id": "15f2fef7",
   "metadata": {},
   "source": [
    "# Random Forest with PCA"
   ]
  },
  {
   "cell_type": "code",
   "execution_count": 94,
   "id": "9506f947",
   "metadata": {},
   "outputs": [
    {
     "name": "stdout",
     "output_type": "stream",
     "text": [
      "R-squared error for training set is:  -2.5243571639469304\n",
      "RMSE for training set is:  2631.7930399132697\n",
      "MAE for training set is:  1921.0183320298104 \n",
      "\n",
      "\n",
      "R-squared error for testing set is:  0.14900116078131487\n",
      "RMSE for testing set is:  2427.0248978469504\n",
      "MAE for testing set is:  1668.8962099146536\n"
     ]
    }
   ],
   "source": [
    "rf_reg.fit(X_train_pca, y_train)\n",
    "\n",
    "train_pred = rf_reg.predict(X_train_pca)\n",
    "print('R-squared error for training set is: ', r2_score(train_pred, y_train))\n",
    "print('RMSE for training set is: ', mean_squared_error( train_pred, y_train, squared=False))\n",
    "print('MAE for training set is: ',mean_absolute_error(train_pred, y_train),'\\n'*2)\n",
    "\n",
    "test_pred = rf_reg.predict(X_test_pca)\n",
    "for i in ind:\n",
    "    test_pred[i] = 0\n",
    "print('R-squared error for testing set is: ', r2_score(test_pred, y_test))\n",
    "print('RMSE for testing set is: ', mean_squared_error( test_pred, y_test, squared=False))\n",
    "print('MAE for testing set is: ',mean_absolute_error(test_pred, y_test))\n"
   ]
  },
  {
   "cell_type": "markdown",
   "id": "483e402d",
   "metadata": {},
   "source": [
    "# Gradient Boosting"
   ]
  },
  {
   "cell_type": "code",
   "execution_count": 100,
   "id": "17fb6c79",
   "metadata": {},
   "outputs": [
    {
     "name": "stdout",
     "output_type": "stream",
     "text": [
      "R-squared error for training set is:  -0.11611244223552619\n",
      "RMSE for training set is:  1963.4748658705796\n",
      "MAE for training set is:  1578.5112265659998 \n",
      "\n",
      "\n",
      "R-squared error for testing set is:  0.5960840321289601\n",
      "RMSE for testing set is:  1831.8900535151756\n",
      "MAE for testing set is:  1378.937660287607\n"
     ]
    }
   ],
   "source": [
    "gbr = GradientBoostingRegressor(max_depth=10,max_features=500)\n",
    "gbr.fit(X_train, y_train)\n",
    "\n",
    "train_pred = gbr.predict(X_train)\n",
    "print('R-squared error for training set is: ', r2_score(train_pred, y_train))\n",
    "print('RMSE for training set is: ', mean_squared_error( train_pred, y_train, squared=False))\n",
    "print('MAE for training set is: ',mean_absolute_error(train_pred, y_train),'\\n'*2)\n",
    "\n",
    "\n",
    "test_pred = gbr.predict(X_test)\n",
    "for i in ind:\n",
    "    test_pred[i] = 0\n",
    "print('R-squared error for testing set is: ', r2_score(test_pred, y_test))\n",
    "print('RMSE for testing set is: ', mean_squared_error( test_pred, y_test, squared=False))\n",
    "print('MAE for testing set is: ',mean_absolute_error(test_pred, y_test))\n"
   ]
  },
  {
   "cell_type": "code",
   "execution_count": 102,
   "id": "061e1a75",
   "metadata": {},
   "outputs": [],
   "source": [
    "from xgboost import XGBRegressor"
   ]
  },
  {
   "cell_type": "code",
   "execution_count": 120,
   "id": "ba54433b",
   "metadata": {},
   "outputs": [
    {
     "name": "stdout",
     "output_type": "stream",
     "text": [
      "(476261, 1123)\n",
      "(476261,)\n",
      "(34565, 1123)\n",
      "(34565,)\n"
     ]
    }
   ],
   "source": [
    "print(X_train.shape)\n",
    "print(y_train.shape)\n",
    "print(X_test.shape)\n",
    "print(y_test.shape)"
   ]
  },
  {
   "cell_type": "code",
   "execution_count": 184,
   "id": "e5e26432",
   "metadata": {},
   "outputs": [],
   "source": [
    "import xgboost"
   ]
  },
  {
   "cell_type": "code",
   "execution_count": 231,
   "id": "f0085055",
   "metadata": {},
   "outputs": [],
   "source": [
    "train_dmatrix = xgboost.DMatrix(data = X_train, label = y_train,  enable_categorical=True)\n",
    "test_dmatrix = xgboost.DMatrix(data = X_test, label = y_test)"
   ]
  },
  {
   "cell_type": "markdown",
   "id": "ff094ecc",
   "metadata": {},
   "source": [
    "# XG Boost 1"
   ]
  },
  {
   "cell_type": "code",
   "execution_count": 238,
   "id": "77d95b0d",
   "metadata": {},
   "outputs": [
    {
     "name": "stdout",
     "output_type": "stream",
     "text": [
      "[12:21:29] WARNING: C:/Users/Administrator/workspace/xgboost-win64_release_1.6.0/src/objective/regression_obj.cu:203: reg:linear is now deprecated in favor of reg:squarederror.\n",
      "R-squared error for training set is:  0.67448142739487\n",
      "RMSE for training set is:  1548.0590009627288\n",
      "MAE for training set is:  1112.510393866723 \n",
      "\n",
      "\n",
      "R-squared error for testing set is:  0.872122184870418\n",
      "RMSE for testing set is:  1251.6945\n",
      "MAE for testing set is:  884.067\n"
     ]
    }
   ],
   "source": [
    "xgb = xgboost.train(dtrain=train_dmatrix, params={\"booster\":\"gblinear\", \"objective\":\"reg:linear\"})\n",
    "test_pred = xgb.predict(test_dmatrix)\n",
    "\n",
    "train_pred = xgb.predict(train_dmatrix)\n",
    "print('R-squared error for training set is: ', r2_score(train_pred, y_train))\n",
    "print('RMSE for training set is: ', mean_squared_error( train_pred, y_train, squared=False))\n",
    "print('MAE for training set is: ',mean_absolute_error(train_pred, y_train),'\\n'*2)\n",
    "\n",
    "for i in ind:\n",
    "    test_pred[i] = 0\n",
    "print('R-squared error for testing set is: ', r2_score(test_pred, y_test))\n",
    "print('RMSE for testing set is: ', mean_squared_error( test_pred, y_test, squared=False))\n",
    "print('MAE for testing set is: ',mean_absolute_error(test_pred, y_test))\n"
   ]
  },
  {
   "cell_type": "markdown",
   "id": "494ce830",
   "metadata": {},
   "source": [
    "# XG Boost 2"
   ]
  },
  {
   "cell_type": "code",
   "execution_count": 242,
   "id": "b79ac0e9",
   "metadata": {
    "scrolled": false
   },
   "outputs": [
    {
     "name": "stdout",
     "output_type": "stream",
     "text": [
      "[12:29:43] WARNING: C:/Users/Administrator/workspace/xgboost-win64_release_1.6.0/src/learner.cc:627: \n",
      "Parameters: { \"n_estimator\" } might not be used.\n",
      "\n",
      "  This could be a false alarm, with some parameters getting used by language bindings but\n",
      "  then being mistakenly passed down to XGBoost core, or some parameter actually being used\n",
      "  but getting flagged wrongly here. Please open an issue if you find any such cases.\n",
      "\n",
      "\n",
      "R-squared error for training set is:  0.5664971055419539\n",
      "RMSE for training set is:  1502.9211906427759\n",
      "MAE for training set is:  1164.877779200644 \n",
      "\n",
      "\n",
      "R-squared error for testing set is:  0.80266958297735\n",
      "RMSE for testing set is:  1392.3317\n",
      "MAE for testing set is:  1036.3427\n"
     ]
    }
   ],
   "source": [
    "X_train1 = X_train.drop('StateHoliday', axis=1)\n",
    "X_test1 = X_test.drop('StateHoliday', axis=1)\n",
    "xgb = XGBRegressor(n_estimator=500, learning_rate=0.5, max_depth=6, n_jobs=-1)\n",
    "xgb.fit(X_train1, y_train)\n",
    "\n",
    "train_pred = xgb.predict(X_train1)\n",
    "print('R-squared error for training set is: ', r2_score(train_pred, y_train))\n",
    "print('RMSE for training set is: ', mean_squared_error( train_pred, y_train, squared=False))\n",
    "print('MAE for training set is: ',mean_absolute_error(train_pred, y_train),'\\n'*2)\n",
    "\n",
    "\n",
    "test_pred = xgb.predict(X_test1)\n",
    "for i in ind:\n",
    "    test_pred[i] = 0\n",
    "print('R-squared error for testing set is: ', r2_score(test_pred, y_test))\n",
    "print('RMSE for testing set is: ', mean_squared_error( test_pred, y_test, squared=False))\n",
    "print('MAE for testing set is: ',mean_absolute_error(test_pred, y_test))\n"
   ]
  }
 ],
 "metadata": {
  "kernelspec": {
   "display_name": "Python 3",
   "language": "python",
   "name": "python3"
  },
  "language_info": {
   "codemirror_mode": {
    "name": "ipython",
    "version": 3
   },
   "file_extension": ".py",
   "mimetype": "text/x-python",
   "name": "python",
   "nbconvert_exporter": "python",
   "pygments_lexer": "ipython3",
   "version": "3.8.8"
  }
 },
 "nbformat": 4,
 "nbformat_minor": 5
}
