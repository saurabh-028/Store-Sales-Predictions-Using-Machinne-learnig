{
 "cells": [
  {
   "cell_type": "code",
   "execution_count": 1,
   "id": "215fa5a7",
   "metadata": {},
   "outputs": [],
   "source": [
    "import numpy as np\n",
    "import pandas as pd\n",
    "\n",
    "import warnings\n",
    "warnings.filterwarnings('ignore')\n",
    "\n",
    "import matplotlib.pyplot as plt\n",
    "import seaborn as sns\n",
    "\n",
    "from sklearn.linear_model import LinearRegression\n",
    "from sklearn.metrics import mean_squared_error\n",
    "from sklearn.metrics import mean_absolute_error\n",
    "from sklearn.metrics import accuracy_score\n",
    "from sklearn.metrics import r2_score\n",
    "\n",
    "from sklearn.linear_model import Ridge\n",
    "from sklearn.tree import DecisionTreeRegressor\n",
    "from sklearn.ensemble import RandomForestRegressor\n",
    "from sklearn.ensemble import AdaBoostRegressor\n",
    "from sklearn.ensemble import GradientBoostingRegressor\n",
    "from sklearn.svm import SVR\n",
    "\n",
    "from statsmodels.tsa.stattools import adfuller\n",
    "from pylab import rcParams\n",
    "import statsmodels.api as sm\n",
    "from statsmodels.tsa.arima_model import ARIMA\n",
    "\n",
    "import tensorflow as tf\n",
    "from tensorflow.keras.models import Sequential\n",
    "from tensorflow.keras.layers import Dense, Flatten, Dropout"
   ]
  },
  {
   "cell_type": "code",
   "execution_count": 2,
   "id": "af4f0cf6",
   "metadata": {},
   "outputs": [],
   "source": [
    "train = pd.read_csv(\"train_data.csv\")"
   ]
  },
  {
   "cell_type": "code",
   "execution_count": 3,
   "id": "82409081",
   "metadata": {
    "scrolled": false
   },
   "outputs": [
    {
     "data": {
      "text/html": [
       "<div>\n",
       "<style scoped>\n",
       "    .dataframe tbody tr th:only-of-type {\n",
       "        vertical-align: middle;\n",
       "    }\n",
       "\n",
       "    .dataframe tbody tr th {\n",
       "        vertical-align: top;\n",
       "    }\n",
       "\n",
       "    .dataframe thead th {\n",
       "        text-align: right;\n",
       "    }\n",
       "</style>\n",
       "<table border=\"1\" class=\"dataframe\">\n",
       "  <thead>\n",
       "    <tr style=\"text-align: right;\">\n",
       "      <th></th>\n",
       "      <th>Store</th>\n",
       "      <th>DayOfWeek</th>\n",
       "      <th>Date</th>\n",
       "      <th>Sales</th>\n",
       "      <th>Customers</th>\n",
       "      <th>Open</th>\n",
       "      <th>Promo</th>\n",
       "      <th>StateHoliday</th>\n",
       "      <th>SchoolHoliday</th>\n",
       "    </tr>\n",
       "  </thead>\n",
       "  <tbody>\n",
       "    <tr>\n",
       "      <th>0</th>\n",
       "      <td>1</td>\n",
       "      <td>5</td>\n",
       "      <td>2015-07-31</td>\n",
       "      <td>5263</td>\n",
       "      <td>555</td>\n",
       "      <td>1</td>\n",
       "      <td>1</td>\n",
       "      <td>0</td>\n",
       "      <td>1</td>\n",
       "    </tr>\n",
       "    <tr>\n",
       "      <th>1</th>\n",
       "      <td>2</td>\n",
       "      <td>5</td>\n",
       "      <td>2015-07-31</td>\n",
       "      <td>6064</td>\n",
       "      <td>625</td>\n",
       "      <td>1</td>\n",
       "      <td>1</td>\n",
       "      <td>0</td>\n",
       "      <td>1</td>\n",
       "    </tr>\n",
       "    <tr>\n",
       "      <th>2</th>\n",
       "      <td>3</td>\n",
       "      <td>5</td>\n",
       "      <td>2015-07-31</td>\n",
       "      <td>8314</td>\n",
       "      <td>821</td>\n",
       "      <td>1</td>\n",
       "      <td>1</td>\n",
       "      <td>0</td>\n",
       "      <td>1</td>\n",
       "    </tr>\n",
       "    <tr>\n",
       "      <th>3</th>\n",
       "      <td>4</td>\n",
       "      <td>5</td>\n",
       "      <td>2015-07-31</td>\n",
       "      <td>13995</td>\n",
       "      <td>1498</td>\n",
       "      <td>1</td>\n",
       "      <td>1</td>\n",
       "      <td>0</td>\n",
       "      <td>1</td>\n",
       "    </tr>\n",
       "    <tr>\n",
       "      <th>4</th>\n",
       "      <td>5</td>\n",
       "      <td>5</td>\n",
       "      <td>2015-07-31</td>\n",
       "      <td>4822</td>\n",
       "      <td>559</td>\n",
       "      <td>1</td>\n",
       "      <td>1</td>\n",
       "      <td>0</td>\n",
       "      <td>1</td>\n",
       "    </tr>\n",
       "  </tbody>\n",
       "</table>\n",
       "</div>"
      ],
      "text/plain": [
       "   Store  DayOfWeek        Date  Sales  Customers  Open  Promo  StateHoliday  \\\n",
       "0      1          5  2015-07-31   5263        555     1      1             0   \n",
       "1      2          5  2015-07-31   6064        625     1      1             0   \n",
       "2      3          5  2015-07-31   8314        821     1      1             0   \n",
       "3      4          5  2015-07-31  13995       1498     1      1             0   \n",
       "4      5          5  2015-07-31   4822        559     1      1             0   \n",
       "\n",
       "   SchoolHoliday  \n",
       "0              1  \n",
       "1              1  \n",
       "2              1  \n",
       "3              1  \n",
       "4              1  "
      ]
     },
     "execution_count": 3,
     "metadata": {},
     "output_type": "execute_result"
    }
   ],
   "source": [
    "test = pd.read_csv(\"test_data_hidden.csv\")\n",
    "test.head()"
   ]
  },
  {
   "cell_type": "code",
   "execution_count": 4,
   "id": "d47e9429",
   "metadata": {},
   "outputs": [
    {
     "data": {
      "text/html": [
       "<div>\n",
       "<style scoped>\n",
       "    .dataframe tbody tr th:only-of-type {\n",
       "        vertical-align: middle;\n",
       "    }\n",
       "\n",
       "    .dataframe tbody tr th {\n",
       "        vertical-align: top;\n",
       "    }\n",
       "\n",
       "    .dataframe thead th {\n",
       "        text-align: right;\n",
       "    }\n",
       "</style>\n",
       "<table border=\"1\" class=\"dataframe\">\n",
       "  <thead>\n",
       "    <tr style=\"text-align: right;\">\n",
       "      <th></th>\n",
       "      <th>Store</th>\n",
       "      <th>DayOfWeek</th>\n",
       "      <th>Date</th>\n",
       "      <th>Sales</th>\n",
       "      <th>Customers</th>\n",
       "      <th>Open</th>\n",
       "      <th>Promo</th>\n",
       "      <th>StateHoliday</th>\n",
       "      <th>SchoolHoliday</th>\n",
       "    </tr>\n",
       "  </thead>\n",
       "  <tbody>\n",
       "    <tr>\n",
       "      <th>0</th>\n",
       "      <td>1</td>\n",
       "      <td>2</td>\n",
       "      <td>2015-06-30</td>\n",
       "      <td>5735</td>\n",
       "      <td>568</td>\n",
       "      <td>1</td>\n",
       "      <td>1</td>\n",
       "      <td>0</td>\n",
       "      <td>0</td>\n",
       "    </tr>\n",
       "    <tr>\n",
       "      <th>1</th>\n",
       "      <td>2</td>\n",
       "      <td>2</td>\n",
       "      <td>2015-06-30</td>\n",
       "      <td>9863</td>\n",
       "      <td>877</td>\n",
       "      <td>1</td>\n",
       "      <td>1</td>\n",
       "      <td>0</td>\n",
       "      <td>0</td>\n",
       "    </tr>\n",
       "    <tr>\n",
       "      <th>2</th>\n",
       "      <td>3</td>\n",
       "      <td>2</td>\n",
       "      <td>2015-06-30</td>\n",
       "      <td>13261</td>\n",
       "      <td>1072</td>\n",
       "      <td>1</td>\n",
       "      <td>1</td>\n",
       "      <td>0</td>\n",
       "      <td>1</td>\n",
       "    </tr>\n",
       "    <tr>\n",
       "      <th>3</th>\n",
       "      <td>4</td>\n",
       "      <td>2</td>\n",
       "      <td>2015-06-30</td>\n",
       "      <td>13106</td>\n",
       "      <td>1488</td>\n",
       "      <td>1</td>\n",
       "      <td>1</td>\n",
       "      <td>0</td>\n",
       "      <td>0</td>\n",
       "    </tr>\n",
       "    <tr>\n",
       "      <th>4</th>\n",
       "      <td>5</td>\n",
       "      <td>2</td>\n",
       "      <td>2015-06-30</td>\n",
       "      <td>6635</td>\n",
       "      <td>645</td>\n",
       "      <td>1</td>\n",
       "      <td>1</td>\n",
       "      <td>0</td>\n",
       "      <td>0</td>\n",
       "    </tr>\n",
       "  </tbody>\n",
       "</table>\n",
       "</div>"
      ],
      "text/plain": [
       "   Store  DayOfWeek        Date  Sales  Customers  Open  Promo StateHoliday  \\\n",
       "0      1          2  2015-06-30   5735        568     1      1            0   \n",
       "1      2          2  2015-06-30   9863        877     1      1            0   \n",
       "2      3          2  2015-06-30  13261       1072     1      1            0   \n",
       "3      4          2  2015-06-30  13106       1488     1      1            0   \n",
       "4      5          2  2015-06-30   6635        645     1      1            0   \n",
       "\n",
       "   SchoolHoliday  \n",
       "0              0  \n",
       "1              0  \n",
       "2              1  \n",
       "3              0  \n",
       "4              0  "
      ]
     },
     "execution_count": 4,
     "metadata": {},
     "output_type": "execute_result"
    }
   ],
   "source": [
    "train.head()"
   ]
  },
  {
   "cell_type": "code",
   "execution_count": 5,
   "id": "f5a5d4ae",
   "metadata": {},
   "outputs": [
    {
     "data": {
      "text/html": [
       "<div>\n",
       "<style scoped>\n",
       "    .dataframe tbody tr th:only-of-type {\n",
       "        vertical-align: middle;\n",
       "    }\n",
       "\n",
       "    .dataframe tbody tr th {\n",
       "        vertical-align: top;\n",
       "    }\n",
       "\n",
       "    .dataframe thead th {\n",
       "        text-align: right;\n",
       "    }\n",
       "</style>\n",
       "<table border=\"1\" class=\"dataframe\">\n",
       "  <thead>\n",
       "    <tr style=\"text-align: right;\">\n",
       "      <th></th>\n",
       "      <th>Store</th>\n",
       "      <th>DayOfWeek</th>\n",
       "      <th>Date</th>\n",
       "      <th>Sales</th>\n",
       "      <th>Customers</th>\n",
       "      <th>Open</th>\n",
       "      <th>Promo</th>\n",
       "      <th>StateHoliday</th>\n",
       "      <th>SchoolHoliday</th>\n",
       "    </tr>\n",
       "  </thead>\n",
       "  <tbody>\n",
       "    <tr>\n",
       "      <th>0</th>\n",
       "      <td>1</td>\n",
       "      <td>5</td>\n",
       "      <td>2015-07-31</td>\n",
       "      <td>5263</td>\n",
       "      <td>555</td>\n",
       "      <td>1</td>\n",
       "      <td>1</td>\n",
       "      <td>0</td>\n",
       "      <td>1</td>\n",
       "    </tr>\n",
       "    <tr>\n",
       "      <th>1</th>\n",
       "      <td>2</td>\n",
       "      <td>5</td>\n",
       "      <td>2015-07-31</td>\n",
       "      <td>6064</td>\n",
       "      <td>625</td>\n",
       "      <td>1</td>\n",
       "      <td>1</td>\n",
       "      <td>0</td>\n",
       "      <td>1</td>\n",
       "    </tr>\n",
       "    <tr>\n",
       "      <th>2</th>\n",
       "      <td>3</td>\n",
       "      <td>5</td>\n",
       "      <td>2015-07-31</td>\n",
       "      <td>8314</td>\n",
       "      <td>821</td>\n",
       "      <td>1</td>\n",
       "      <td>1</td>\n",
       "      <td>0</td>\n",
       "      <td>1</td>\n",
       "    </tr>\n",
       "    <tr>\n",
       "      <th>3</th>\n",
       "      <td>4</td>\n",
       "      <td>5</td>\n",
       "      <td>2015-07-31</td>\n",
       "      <td>13995</td>\n",
       "      <td>1498</td>\n",
       "      <td>1</td>\n",
       "      <td>1</td>\n",
       "      <td>0</td>\n",
       "      <td>1</td>\n",
       "    </tr>\n",
       "    <tr>\n",
       "      <th>4</th>\n",
       "      <td>5</td>\n",
       "      <td>5</td>\n",
       "      <td>2015-07-31</td>\n",
       "      <td>4822</td>\n",
       "      <td>559</td>\n",
       "      <td>1</td>\n",
       "      <td>1</td>\n",
       "      <td>0</td>\n",
       "      <td>1</td>\n",
       "    </tr>\n",
       "  </tbody>\n",
       "</table>\n",
       "</div>"
      ],
      "text/plain": [
       "   Store  DayOfWeek        Date  Sales  Customers  Open  Promo  StateHoliday  \\\n",
       "0      1          5  2015-07-31   5263        555     1      1             0   \n",
       "1      2          5  2015-07-31   6064        625     1      1             0   \n",
       "2      3          5  2015-07-31   8314        821     1      1             0   \n",
       "3      4          5  2015-07-31  13995       1498     1      1             0   \n",
       "4      5          5  2015-07-31   4822        559     1      1             0   \n",
       "\n",
       "   SchoolHoliday  \n",
       "0              1  \n",
       "1              1  \n",
       "2              1  \n",
       "3              1  \n",
       "4              1  "
      ]
     },
     "execution_count": 5,
     "metadata": {},
     "output_type": "execute_result"
    }
   ],
   "source": [
    "test_hidden = pd.read_csv('test_data_hidden.csv')\n",
    "test_hidden.head()"
   ]
  },
  {
   "cell_type": "code",
   "execution_count": 6,
   "id": "e29c6e34",
   "metadata": {},
   "outputs": [],
   "source": [
    "train['Date']= pd.to_datetime(train['Date'])\n",
    "test['Date'] = pd.to_datetime(test['Date'])"
   ]
  },
  {
   "cell_type": "code",
   "execution_count": 7,
   "id": "28520062",
   "metadata": {},
   "outputs": [
    {
     "name": "stdout",
     "output_type": "stream",
     "text": [
      "<class 'pandas.core.frame.DataFrame'>\n",
      "RangeIndex: 982644 entries, 0 to 982643\n",
      "Data columns (total 9 columns):\n",
      " #   Column         Non-Null Count   Dtype         \n",
      "---  ------         --------------   -----         \n",
      " 0   Store          982644 non-null  int64         \n",
      " 1   DayOfWeek      982644 non-null  int64         \n",
      " 2   Date           982644 non-null  datetime64[ns]\n",
      " 3   Sales          982644 non-null  int64         \n",
      " 4   Customers      982644 non-null  int64         \n",
      " 5   Open           982644 non-null  int64         \n",
      " 6   Promo          982644 non-null  int64         \n",
      " 7   StateHoliday   982644 non-null  object        \n",
      " 8   SchoolHoliday  982644 non-null  int64         \n",
      "dtypes: datetime64[ns](1), int64(7), object(1)\n",
      "memory usage: 67.5+ MB\n"
     ]
    }
   ],
   "source": [
    "train.info()"
   ]
  },
  {
   "cell_type": "code",
   "execution_count": 8,
   "id": "d8c3ddba",
   "metadata": {},
   "outputs": [
    {
     "data": {
      "text/html": [
       "<div>\n",
       "<style scoped>\n",
       "    .dataframe tbody tr th:only-of-type {\n",
       "        vertical-align: middle;\n",
       "    }\n",
       "\n",
       "    .dataframe tbody tr th {\n",
       "        vertical-align: top;\n",
       "    }\n",
       "\n",
       "    .dataframe thead th {\n",
       "        text-align: right;\n",
       "    }\n",
       "</style>\n",
       "<table border=\"1\" class=\"dataframe\">\n",
       "  <thead>\n",
       "    <tr style=\"text-align: right;\">\n",
       "      <th></th>\n",
       "      <th>Store</th>\n",
       "      <th>DayOfWeek</th>\n",
       "      <th>Sales</th>\n",
       "      <th>Customers</th>\n",
       "      <th>Open</th>\n",
       "      <th>Promo</th>\n",
       "      <th>SchoolHoliday</th>\n",
       "    </tr>\n",
       "  </thead>\n",
       "  <tbody>\n",
       "    <tr>\n",
       "      <th>count</th>\n",
       "      <td>982644.000000</td>\n",
       "      <td>982644.000000</td>\n",
       "      <td>982644.000000</td>\n",
       "      <td>982644.000000</td>\n",
       "      <td>982644.000000</td>\n",
       "      <td>982644.000000</td>\n",
       "      <td>982644.000000</td>\n",
       "    </tr>\n",
       "    <tr>\n",
       "      <th>mean</th>\n",
       "      <td>558.444843</td>\n",
       "      <td>3.998282</td>\n",
       "      <td>5760.843202</td>\n",
       "      <td>632.770227</td>\n",
       "      <td>0.828585</td>\n",
       "      <td>0.380183</td>\n",
       "      <td>0.171928</td>\n",
       "    </tr>\n",
       "    <tr>\n",
       "      <th>std</th>\n",
       "      <td>321.909907</td>\n",
       "      <td>2.000138</td>\n",
       "      <td>3857.573443</td>\n",
       "      <td>465.401378</td>\n",
       "      <td>0.376871</td>\n",
       "      <td>0.485432</td>\n",
       "      <td>0.377318</td>\n",
       "    </tr>\n",
       "    <tr>\n",
       "      <th>min</th>\n",
       "      <td>1.000000</td>\n",
       "      <td>1.000000</td>\n",
       "      <td>0.000000</td>\n",
       "      <td>0.000000</td>\n",
       "      <td>0.000000</td>\n",
       "      <td>0.000000</td>\n",
       "      <td>0.000000</td>\n",
       "    </tr>\n",
       "    <tr>\n",
       "      <th>25%</th>\n",
       "      <td>280.000000</td>\n",
       "      <td>2.000000</td>\n",
       "      <td>3705.000000</td>\n",
       "      <td>403.000000</td>\n",
       "      <td>1.000000</td>\n",
       "      <td>0.000000</td>\n",
       "      <td>0.000000</td>\n",
       "    </tr>\n",
       "    <tr>\n",
       "      <th>50%</th>\n",
       "      <td>558.000000</td>\n",
       "      <td>4.000000</td>\n",
       "      <td>5731.000000</td>\n",
       "      <td>609.000000</td>\n",
       "      <td>1.000000</td>\n",
       "      <td>0.000000</td>\n",
       "      <td>0.000000</td>\n",
       "    </tr>\n",
       "    <tr>\n",
       "      <th>75%</th>\n",
       "      <td>838.000000</td>\n",
       "      <td>6.000000</td>\n",
       "      <td>7847.000000</td>\n",
       "      <td>838.000000</td>\n",
       "      <td>1.000000</td>\n",
       "      <td>1.000000</td>\n",
       "      <td>0.000000</td>\n",
       "    </tr>\n",
       "    <tr>\n",
       "      <th>max</th>\n",
       "      <td>1115.000000</td>\n",
       "      <td>7.000000</td>\n",
       "      <td>41551.000000</td>\n",
       "      <td>7388.000000</td>\n",
       "      <td>1.000000</td>\n",
       "      <td>1.000000</td>\n",
       "      <td>1.000000</td>\n",
       "    </tr>\n",
       "  </tbody>\n",
       "</table>\n",
       "</div>"
      ],
      "text/plain": [
       "               Store      DayOfWeek          Sales      Customers  \\\n",
       "count  982644.000000  982644.000000  982644.000000  982644.000000   \n",
       "mean      558.444843       3.998282    5760.843202     632.770227   \n",
       "std       321.909907       2.000138    3857.573443     465.401378   \n",
       "min         1.000000       1.000000       0.000000       0.000000   \n",
       "25%       280.000000       2.000000    3705.000000     403.000000   \n",
       "50%       558.000000       4.000000    5731.000000     609.000000   \n",
       "75%       838.000000       6.000000    7847.000000     838.000000   \n",
       "max      1115.000000       7.000000   41551.000000    7388.000000   \n",
       "\n",
       "                Open          Promo  SchoolHoliday  \n",
       "count  982644.000000  982644.000000  982644.000000  \n",
       "mean        0.828585       0.380183       0.171928  \n",
       "std         0.376871       0.485432       0.377318  \n",
       "min         0.000000       0.000000       0.000000  \n",
       "25%         1.000000       0.000000       0.000000  \n",
       "50%         1.000000       0.000000       0.000000  \n",
       "75%         1.000000       1.000000       0.000000  \n",
       "max         1.000000       1.000000       1.000000  "
      ]
     },
     "execution_count": 8,
     "metadata": {},
     "output_type": "execute_result"
    }
   ],
   "source": [
    "train.describe()"
   ]
  },
  {
   "cell_type": "code",
   "execution_count": 9,
   "id": "d357cf35",
   "metadata": {},
   "outputs": [
    {
     "data": {
      "text/plain": [
       "(982644, 9)"
      ]
     },
     "execution_count": 9,
     "metadata": {},
     "output_type": "execute_result"
    }
   ],
   "source": [
    "train.shape"
   ]
  },
  {
   "cell_type": "code",
   "execution_count": 10,
   "id": "cba6d0b0",
   "metadata": {},
   "outputs": [
    {
     "data": {
      "text/plain": [
       "(34565, 9)"
      ]
     },
     "execution_count": 10,
     "metadata": {},
     "output_type": "execute_result"
    }
   ],
   "source": [
    "test.shape"
   ]
  },
  {
   "cell_type": "code",
   "execution_count": 11,
   "id": "25da4dfe",
   "metadata": {},
   "outputs": [
    {
     "name": "stdout",
     "output_type": "stream",
     "text": [
      "Store \n",
      " Unique values:  [   1    2    3 ... 1113 1114 1115] \n",
      " number of unique values 1115 \n",
      " ----------------------------------------------------------------------------------------------------\n",
      "DayOfWeek \n",
      " Unique values:  [2 1 7 6 5 4 3] \n",
      " number of unique values 7 \n",
      " ----------------------------------------------------------------------------------------------------\n",
      "Sales \n",
      " Unique values:  [ 5735  9863 13261 ... 17815 23303 20355] \n",
      " number of unique values 21642 \n",
      " ----------------------------------------------------------------------------------------------------\n",
      "Customers \n",
      " Unique values:  [ 568  877 1072 ...   36 3299 4065] \n",
      " number of unique values 4076 \n",
      " ----------------------------------------------------------------------------------------------------\n",
      "Open \n",
      " Unique values:  [1 0] \n",
      " number of unique values 2 \n",
      " ----------------------------------------------------------------------------------------------------\n",
      "Promo \n",
      " Unique values:  [1 0] \n",
      " number of unique values 2 \n",
      " ----------------------------------------------------------------------------------------------------\n",
      "StateHoliday \n",
      " Unique values:  ['0' 'a' 'b' 'c' 0] \n",
      " number of unique values 5 \n",
      " ----------------------------------------------------------------------------------------------------\n",
      "SchoolHoliday \n",
      " Unique values:  [0 1] \n",
      " number of unique values 2 \n",
      " ----------------------------------------------------------------------------------------------------\n"
     ]
    }
   ],
   "source": [
    "for column in train:\n",
    "    if column != 'Date':\n",
    "        print(column,'\\n','Unique values: ', train[column].unique(),'\\n', \n",
    "              'number of unique values', train[column].nunique(), '\\n', '-'*100)"
   ]
  },
  {
   "cell_type": "code",
   "execution_count": 12,
   "id": "466b7691",
   "metadata": {},
   "outputs": [],
   "source": [
    "concat = pd.concat([train, test],ignore_index=True )"
   ]
  },
  {
   "cell_type": "code",
   "execution_count": 13,
   "id": "33f507c7",
   "metadata": {},
   "outputs": [
    {
     "data": {
      "text/plain": [
       "(1017209, 9)"
      ]
     },
     "execution_count": 13,
     "metadata": {},
     "output_type": "execute_result"
    }
   ],
   "source": [
    "concat.shape"
   ]
  },
  {
   "cell_type": "code",
   "execution_count": 14,
   "id": "836e8942",
   "metadata": {},
   "outputs": [
    {
     "data": {
      "text/html": [
       "<div>\n",
       "<style scoped>\n",
       "    .dataframe tbody tr th:only-of-type {\n",
       "        vertical-align: middle;\n",
       "    }\n",
       "\n",
       "    .dataframe tbody tr th {\n",
       "        vertical-align: top;\n",
       "    }\n",
       "\n",
       "    .dataframe thead th {\n",
       "        text-align: right;\n",
       "    }\n",
       "</style>\n",
       "<table border=\"1\" class=\"dataframe\">\n",
       "  <thead>\n",
       "    <tr style=\"text-align: right;\">\n",
       "      <th></th>\n",
       "      <th>Store</th>\n",
       "      <th>DayOfWeek</th>\n",
       "      <th>Date</th>\n",
       "      <th>Sales</th>\n",
       "      <th>Customers</th>\n",
       "      <th>Open</th>\n",
       "      <th>Promo</th>\n",
       "      <th>StateHoliday</th>\n",
       "      <th>SchoolHoliday</th>\n",
       "    </tr>\n",
       "  </thead>\n",
       "  <tbody>\n",
       "    <tr>\n",
       "      <th>0</th>\n",
       "      <td>1</td>\n",
       "      <td>2</td>\n",
       "      <td>2015-06-30</td>\n",
       "      <td>5735</td>\n",
       "      <td>568</td>\n",
       "      <td>1</td>\n",
       "      <td>1</td>\n",
       "      <td>0</td>\n",
       "      <td>0</td>\n",
       "    </tr>\n",
       "    <tr>\n",
       "      <th>1</th>\n",
       "      <td>2</td>\n",
       "      <td>2</td>\n",
       "      <td>2015-06-30</td>\n",
       "      <td>9863</td>\n",
       "      <td>877</td>\n",
       "      <td>1</td>\n",
       "      <td>1</td>\n",
       "      <td>0</td>\n",
       "      <td>0</td>\n",
       "    </tr>\n",
       "    <tr>\n",
       "      <th>2</th>\n",
       "      <td>3</td>\n",
       "      <td>2</td>\n",
       "      <td>2015-06-30</td>\n",
       "      <td>13261</td>\n",
       "      <td>1072</td>\n",
       "      <td>1</td>\n",
       "      <td>1</td>\n",
       "      <td>0</td>\n",
       "      <td>1</td>\n",
       "    </tr>\n",
       "    <tr>\n",
       "      <th>3</th>\n",
       "      <td>4</td>\n",
       "      <td>2</td>\n",
       "      <td>2015-06-30</td>\n",
       "      <td>13106</td>\n",
       "      <td>1488</td>\n",
       "      <td>1</td>\n",
       "      <td>1</td>\n",
       "      <td>0</td>\n",
       "      <td>0</td>\n",
       "    </tr>\n",
       "    <tr>\n",
       "      <th>4</th>\n",
       "      <td>5</td>\n",
       "      <td>2</td>\n",
       "      <td>2015-06-30</td>\n",
       "      <td>6635</td>\n",
       "      <td>645</td>\n",
       "      <td>1</td>\n",
       "      <td>1</td>\n",
       "      <td>0</td>\n",
       "      <td>0</td>\n",
       "    </tr>\n",
       "  </tbody>\n",
       "</table>\n",
       "</div>"
      ],
      "text/plain": [
       "   Store  DayOfWeek       Date  Sales  Customers  Open  Promo StateHoliday  \\\n",
       "0      1          2 2015-06-30   5735        568     1      1            0   \n",
       "1      2          2 2015-06-30   9863        877     1      1            0   \n",
       "2      3          2 2015-06-30  13261       1072     1      1            0   \n",
       "3      4          2 2015-06-30  13106       1488     1      1            0   \n",
       "4      5          2 2015-06-30   6635        645     1      1            0   \n",
       "\n",
       "   SchoolHoliday  \n",
       "0              0  \n",
       "1              0  \n",
       "2              1  \n",
       "3              0  \n",
       "4              0  "
      ]
     },
     "execution_count": 14,
     "metadata": {},
     "output_type": "execute_result"
    }
   ],
   "source": [
    "concat.head()"
   ]
  },
  {
   "cell_type": "code",
   "execution_count": 15,
   "id": "60d2ce50",
   "metadata": {},
   "outputs": [],
   "source": [
    "concat[\"StateHoliday\"] = concat[\"StateHoliday\"].replace({\"0\":0, \"a\":1, \"b\":2, \"c\":3})\n",
    "\n",
    "concat[\"Day\"]= pd.to_datetime(concat[\"Date\"]).dt.day\n",
    "concat[\"Month\"]= pd.to_datetime(concat[\"Date\"]).dt.month\n",
    "concat[\"Year\"]= pd.to_datetime(concat[\"Date\"]).dt.year\n",
    "\n",
    "concat.drop(['Date', 'Customers'], axis=1, inplace=True)"
   ]
  },
  {
   "cell_type": "code",
   "execution_count": 16,
   "id": "d48aa152",
   "metadata": {
    "scrolled": true
   },
   "outputs": [
    {
     "data": {
      "text/html": [
       "<div>\n",
       "<style scoped>\n",
       "    .dataframe tbody tr th:only-of-type {\n",
       "        vertical-align: middle;\n",
       "    }\n",
       "\n",
       "    .dataframe tbody tr th {\n",
       "        vertical-align: top;\n",
       "    }\n",
       "\n",
       "    .dataframe thead th {\n",
       "        text-align: right;\n",
       "    }\n",
       "</style>\n",
       "<table border=\"1\" class=\"dataframe\">\n",
       "  <thead>\n",
       "    <tr style=\"text-align: right;\">\n",
       "      <th></th>\n",
       "      <th>Store</th>\n",
       "      <th>DayOfWeek</th>\n",
       "      <th>Sales</th>\n",
       "      <th>Open</th>\n",
       "      <th>Promo</th>\n",
       "      <th>StateHoliday</th>\n",
       "      <th>SchoolHoliday</th>\n",
       "      <th>Day</th>\n",
       "      <th>Month</th>\n",
       "      <th>Year</th>\n",
       "    </tr>\n",
       "  </thead>\n",
       "  <tbody>\n",
       "    <tr>\n",
       "      <th>0</th>\n",
       "      <td>1</td>\n",
       "      <td>2</td>\n",
       "      <td>5735</td>\n",
       "      <td>1</td>\n",
       "      <td>1</td>\n",
       "      <td>0</td>\n",
       "      <td>0</td>\n",
       "      <td>30</td>\n",
       "      <td>6</td>\n",
       "      <td>2015</td>\n",
       "    </tr>\n",
       "    <tr>\n",
       "      <th>1</th>\n",
       "      <td>2</td>\n",
       "      <td>2</td>\n",
       "      <td>9863</td>\n",
       "      <td>1</td>\n",
       "      <td>1</td>\n",
       "      <td>0</td>\n",
       "      <td>0</td>\n",
       "      <td>30</td>\n",
       "      <td>6</td>\n",
       "      <td>2015</td>\n",
       "    </tr>\n",
       "    <tr>\n",
       "      <th>2</th>\n",
       "      <td>3</td>\n",
       "      <td>2</td>\n",
       "      <td>13261</td>\n",
       "      <td>1</td>\n",
       "      <td>1</td>\n",
       "      <td>0</td>\n",
       "      <td>1</td>\n",
       "      <td>30</td>\n",
       "      <td>6</td>\n",
       "      <td>2015</td>\n",
       "    </tr>\n",
       "    <tr>\n",
       "      <th>3</th>\n",
       "      <td>4</td>\n",
       "      <td>2</td>\n",
       "      <td>13106</td>\n",
       "      <td>1</td>\n",
       "      <td>1</td>\n",
       "      <td>0</td>\n",
       "      <td>0</td>\n",
       "      <td>30</td>\n",
       "      <td>6</td>\n",
       "      <td>2015</td>\n",
       "    </tr>\n",
       "    <tr>\n",
       "      <th>4</th>\n",
       "      <td>5</td>\n",
       "      <td>2</td>\n",
       "      <td>6635</td>\n",
       "      <td>1</td>\n",
       "      <td>1</td>\n",
       "      <td>0</td>\n",
       "      <td>0</td>\n",
       "      <td>30</td>\n",
       "      <td>6</td>\n",
       "      <td>2015</td>\n",
       "    </tr>\n",
       "  </tbody>\n",
       "</table>\n",
       "</div>"
      ],
      "text/plain": [
       "   Store  DayOfWeek  Sales  Open  Promo  StateHoliday  SchoolHoliday  Day  \\\n",
       "0      1          2   5735     1      1             0              0   30   \n",
       "1      2          2   9863     1      1             0              0   30   \n",
       "2      3          2  13261     1      1             0              1   30   \n",
       "3      4          2  13106     1      1             0              0   30   \n",
       "4      5          2   6635     1      1             0              0   30   \n",
       "\n",
       "   Month  Year  \n",
       "0      6  2015  \n",
       "1      6  2015  \n",
       "2      6  2015  \n",
       "3      6  2015  \n",
       "4      6  2015  "
      ]
     },
     "execution_count": 16,
     "metadata": {},
     "output_type": "execute_result"
    }
   ],
   "source": [
    "concat.head()"
   ]
  },
  {
   "cell_type": "code",
   "execution_count": 17,
   "id": "be5c3ca6",
   "metadata": {},
   "outputs": [],
   "source": [
    "train = concat[:982644]\n",
    "test = concat[982644:].reset_index(drop=True)"
   ]
  },
  {
   "cell_type": "code",
   "execution_count": 18,
   "id": "52801ae1",
   "metadata": {},
   "outputs": [
    {
     "data": {
      "text/html": [
       "<div>\n",
       "<style scoped>\n",
       "    .dataframe tbody tr th:only-of-type {\n",
       "        vertical-align: middle;\n",
       "    }\n",
       "\n",
       "    .dataframe tbody tr th {\n",
       "        vertical-align: top;\n",
       "    }\n",
       "\n",
       "    .dataframe thead th {\n",
       "        text-align: right;\n",
       "    }\n",
       "</style>\n",
       "<table border=\"1\" class=\"dataframe\">\n",
       "  <thead>\n",
       "    <tr style=\"text-align: right;\">\n",
       "      <th></th>\n",
       "      <th>Store</th>\n",
       "      <th>DayOfWeek</th>\n",
       "      <th>Sales</th>\n",
       "      <th>Open</th>\n",
       "      <th>Promo</th>\n",
       "      <th>StateHoliday</th>\n",
       "      <th>SchoolHoliday</th>\n",
       "      <th>Day</th>\n",
       "      <th>Month</th>\n",
       "      <th>Year</th>\n",
       "    </tr>\n",
       "  </thead>\n",
       "  <tbody>\n",
       "    <tr>\n",
       "      <th>0</th>\n",
       "      <td>1</td>\n",
       "      <td>2</td>\n",
       "      <td>5735</td>\n",
       "      <td>1</td>\n",
       "      <td>1</td>\n",
       "      <td>0</td>\n",
       "      <td>0</td>\n",
       "      <td>30</td>\n",
       "      <td>6</td>\n",
       "      <td>2015</td>\n",
       "    </tr>\n",
       "    <tr>\n",
       "      <th>1</th>\n",
       "      <td>2</td>\n",
       "      <td>2</td>\n",
       "      <td>9863</td>\n",
       "      <td>1</td>\n",
       "      <td>1</td>\n",
       "      <td>0</td>\n",
       "      <td>0</td>\n",
       "      <td>30</td>\n",
       "      <td>6</td>\n",
       "      <td>2015</td>\n",
       "    </tr>\n",
       "    <tr>\n",
       "      <th>2</th>\n",
       "      <td>3</td>\n",
       "      <td>2</td>\n",
       "      <td>13261</td>\n",
       "      <td>1</td>\n",
       "      <td>1</td>\n",
       "      <td>0</td>\n",
       "      <td>1</td>\n",
       "      <td>30</td>\n",
       "      <td>6</td>\n",
       "      <td>2015</td>\n",
       "    </tr>\n",
       "    <tr>\n",
       "      <th>3</th>\n",
       "      <td>4</td>\n",
       "      <td>2</td>\n",
       "      <td>13106</td>\n",
       "      <td>1</td>\n",
       "      <td>1</td>\n",
       "      <td>0</td>\n",
       "      <td>0</td>\n",
       "      <td>30</td>\n",
       "      <td>6</td>\n",
       "      <td>2015</td>\n",
       "    </tr>\n",
       "    <tr>\n",
       "      <th>4</th>\n",
       "      <td>5</td>\n",
       "      <td>2</td>\n",
       "      <td>6635</td>\n",
       "      <td>1</td>\n",
       "      <td>1</td>\n",
       "      <td>0</td>\n",
       "      <td>0</td>\n",
       "      <td>30</td>\n",
       "      <td>6</td>\n",
       "      <td>2015</td>\n",
       "    </tr>\n",
       "    <tr>\n",
       "      <th>...</th>\n",
       "      <td>...</td>\n",
       "      <td>...</td>\n",
       "      <td>...</td>\n",
       "      <td>...</td>\n",
       "      <td>...</td>\n",
       "      <td>...</td>\n",
       "      <td>...</td>\n",
       "      <td>...</td>\n",
       "      <td>...</td>\n",
       "      <td>...</td>\n",
       "    </tr>\n",
       "    <tr>\n",
       "      <th>982639</th>\n",
       "      <td>1111</td>\n",
       "      <td>2</td>\n",
       "      <td>0</td>\n",
       "      <td>0</td>\n",
       "      <td>0</td>\n",
       "      <td>1</td>\n",
       "      <td>1</td>\n",
       "      <td>1</td>\n",
       "      <td>1</td>\n",
       "      <td>2013</td>\n",
       "    </tr>\n",
       "    <tr>\n",
       "      <th>982640</th>\n",
       "      <td>1112</td>\n",
       "      <td>2</td>\n",
       "      <td>0</td>\n",
       "      <td>0</td>\n",
       "      <td>0</td>\n",
       "      <td>1</td>\n",
       "      <td>1</td>\n",
       "      <td>1</td>\n",
       "      <td>1</td>\n",
       "      <td>2013</td>\n",
       "    </tr>\n",
       "    <tr>\n",
       "      <th>982641</th>\n",
       "      <td>1113</td>\n",
       "      <td>2</td>\n",
       "      <td>0</td>\n",
       "      <td>0</td>\n",
       "      <td>0</td>\n",
       "      <td>1</td>\n",
       "      <td>1</td>\n",
       "      <td>1</td>\n",
       "      <td>1</td>\n",
       "      <td>2013</td>\n",
       "    </tr>\n",
       "    <tr>\n",
       "      <th>982642</th>\n",
       "      <td>1114</td>\n",
       "      <td>2</td>\n",
       "      <td>0</td>\n",
       "      <td>0</td>\n",
       "      <td>0</td>\n",
       "      <td>1</td>\n",
       "      <td>1</td>\n",
       "      <td>1</td>\n",
       "      <td>1</td>\n",
       "      <td>2013</td>\n",
       "    </tr>\n",
       "    <tr>\n",
       "      <th>982643</th>\n",
       "      <td>1115</td>\n",
       "      <td>2</td>\n",
       "      <td>0</td>\n",
       "      <td>0</td>\n",
       "      <td>0</td>\n",
       "      <td>1</td>\n",
       "      <td>1</td>\n",
       "      <td>1</td>\n",
       "      <td>1</td>\n",
       "      <td>2013</td>\n",
       "    </tr>\n",
       "  </tbody>\n",
       "</table>\n",
       "<p>982644 rows × 10 columns</p>\n",
       "</div>"
      ],
      "text/plain": [
       "        Store  DayOfWeek  Sales  Open  Promo  StateHoliday  SchoolHoliday  \\\n",
       "0           1          2   5735     1      1             0              0   \n",
       "1           2          2   9863     1      1             0              0   \n",
       "2           3          2  13261     1      1             0              1   \n",
       "3           4          2  13106     1      1             0              0   \n",
       "4           5          2   6635     1      1             0              0   \n",
       "...       ...        ...    ...   ...    ...           ...            ...   \n",
       "982639   1111          2      0     0      0             1              1   \n",
       "982640   1112          2      0     0      0             1              1   \n",
       "982641   1113          2      0     0      0             1              1   \n",
       "982642   1114          2      0     0      0             1              1   \n",
       "982643   1115          2      0     0      0             1              1   \n",
       "\n",
       "        Day  Month  Year  \n",
       "0        30      6  2015  \n",
       "1        30      6  2015  \n",
       "2        30      6  2015  \n",
       "3        30      6  2015  \n",
       "4        30      6  2015  \n",
       "...     ...    ...   ...  \n",
       "982639    1      1  2013  \n",
       "982640    1      1  2013  \n",
       "982641    1      1  2013  \n",
       "982642    1      1  2013  \n",
       "982643    1      1  2013  \n",
       "\n",
       "[982644 rows x 10 columns]"
      ]
     },
     "execution_count": 18,
     "metadata": {},
     "output_type": "execute_result"
    }
   ],
   "source": [
    "train"
   ]
  },
  {
   "cell_type": "code",
   "execution_count": 19,
   "id": "9d33b39d",
   "metadata": {},
   "outputs": [
    {
     "data": {
      "text/html": [
       "<div>\n",
       "<style scoped>\n",
       "    .dataframe tbody tr th:only-of-type {\n",
       "        vertical-align: middle;\n",
       "    }\n",
       "\n",
       "    .dataframe tbody tr th {\n",
       "        vertical-align: top;\n",
       "    }\n",
       "\n",
       "    .dataframe thead th {\n",
       "        text-align: right;\n",
       "    }\n",
       "</style>\n",
       "<table border=\"1\" class=\"dataframe\">\n",
       "  <thead>\n",
       "    <tr style=\"text-align: right;\">\n",
       "      <th></th>\n",
       "      <th>Store</th>\n",
       "      <th>DayOfWeek</th>\n",
       "      <th>Sales</th>\n",
       "      <th>Open</th>\n",
       "      <th>Promo</th>\n",
       "      <th>StateHoliday</th>\n",
       "      <th>SchoolHoliday</th>\n",
       "      <th>Day</th>\n",
       "      <th>Month</th>\n",
       "      <th>Year</th>\n",
       "    </tr>\n",
       "  </thead>\n",
       "  <tbody>\n",
       "    <tr>\n",
       "      <th>0</th>\n",
       "      <td>1</td>\n",
       "      <td>5</td>\n",
       "      <td>5263</td>\n",
       "      <td>1</td>\n",
       "      <td>1</td>\n",
       "      <td>0</td>\n",
       "      <td>1</td>\n",
       "      <td>31</td>\n",
       "      <td>7</td>\n",
       "      <td>2015</td>\n",
       "    </tr>\n",
       "    <tr>\n",
       "      <th>1</th>\n",
       "      <td>2</td>\n",
       "      <td>5</td>\n",
       "      <td>6064</td>\n",
       "      <td>1</td>\n",
       "      <td>1</td>\n",
       "      <td>0</td>\n",
       "      <td>1</td>\n",
       "      <td>31</td>\n",
       "      <td>7</td>\n",
       "      <td>2015</td>\n",
       "    </tr>\n",
       "    <tr>\n",
       "      <th>2</th>\n",
       "      <td>3</td>\n",
       "      <td>5</td>\n",
       "      <td>8314</td>\n",
       "      <td>1</td>\n",
       "      <td>1</td>\n",
       "      <td>0</td>\n",
       "      <td>1</td>\n",
       "      <td>31</td>\n",
       "      <td>7</td>\n",
       "      <td>2015</td>\n",
       "    </tr>\n",
       "    <tr>\n",
       "      <th>3</th>\n",
       "      <td>4</td>\n",
       "      <td>5</td>\n",
       "      <td>13995</td>\n",
       "      <td>1</td>\n",
       "      <td>1</td>\n",
       "      <td>0</td>\n",
       "      <td>1</td>\n",
       "      <td>31</td>\n",
       "      <td>7</td>\n",
       "      <td>2015</td>\n",
       "    </tr>\n",
       "    <tr>\n",
       "      <th>4</th>\n",
       "      <td>5</td>\n",
       "      <td>5</td>\n",
       "      <td>4822</td>\n",
       "      <td>1</td>\n",
       "      <td>1</td>\n",
       "      <td>0</td>\n",
       "      <td>1</td>\n",
       "      <td>31</td>\n",
       "      <td>7</td>\n",
       "      <td>2015</td>\n",
       "    </tr>\n",
       "    <tr>\n",
       "      <th>...</th>\n",
       "      <td>...</td>\n",
       "      <td>...</td>\n",
       "      <td>...</td>\n",
       "      <td>...</td>\n",
       "      <td>...</td>\n",
       "      <td>...</td>\n",
       "      <td>...</td>\n",
       "      <td>...</td>\n",
       "      <td>...</td>\n",
       "      <td>...</td>\n",
       "    </tr>\n",
       "    <tr>\n",
       "      <th>34560</th>\n",
       "      <td>1111</td>\n",
       "      <td>3</td>\n",
       "      <td>3701</td>\n",
       "      <td>1</td>\n",
       "      <td>1</td>\n",
       "      <td>0</td>\n",
       "      <td>1</td>\n",
       "      <td>1</td>\n",
       "      <td>7</td>\n",
       "      <td>2015</td>\n",
       "    </tr>\n",
       "    <tr>\n",
       "      <th>34561</th>\n",
       "      <td>1112</td>\n",
       "      <td>3</td>\n",
       "      <td>10620</td>\n",
       "      <td>1</td>\n",
       "      <td>1</td>\n",
       "      <td>0</td>\n",
       "      <td>1</td>\n",
       "      <td>1</td>\n",
       "      <td>7</td>\n",
       "      <td>2015</td>\n",
       "    </tr>\n",
       "    <tr>\n",
       "      <th>34562</th>\n",
       "      <td>1113</td>\n",
       "      <td>3</td>\n",
       "      <td>8222</td>\n",
       "      <td>1</td>\n",
       "      <td>1</td>\n",
       "      <td>0</td>\n",
       "      <td>0</td>\n",
       "      <td>1</td>\n",
       "      <td>7</td>\n",
       "      <td>2015</td>\n",
       "    </tr>\n",
       "    <tr>\n",
       "      <th>34563</th>\n",
       "      <td>1114</td>\n",
       "      <td>3</td>\n",
       "      <td>27071</td>\n",
       "      <td>1</td>\n",
       "      <td>1</td>\n",
       "      <td>0</td>\n",
       "      <td>0</td>\n",
       "      <td>1</td>\n",
       "      <td>7</td>\n",
       "      <td>2015</td>\n",
       "    </tr>\n",
       "    <tr>\n",
       "      <th>34564</th>\n",
       "      <td>1115</td>\n",
       "      <td>3</td>\n",
       "      <td>7701</td>\n",
       "      <td>1</td>\n",
       "      <td>1</td>\n",
       "      <td>0</td>\n",
       "      <td>0</td>\n",
       "      <td>1</td>\n",
       "      <td>7</td>\n",
       "      <td>2015</td>\n",
       "    </tr>\n",
       "  </tbody>\n",
       "</table>\n",
       "<p>34565 rows × 10 columns</p>\n",
       "</div>"
      ],
      "text/plain": [
       "       Store  DayOfWeek  Sales  Open  Promo  StateHoliday  SchoolHoliday  Day  \\\n",
       "0          1          5   5263     1      1             0              1   31   \n",
       "1          2          5   6064     1      1             0              1   31   \n",
       "2          3          5   8314     1      1             0              1   31   \n",
       "3          4          5  13995     1      1             0              1   31   \n",
       "4          5          5   4822     1      1             0              1   31   \n",
       "...      ...        ...    ...   ...    ...           ...            ...  ...   \n",
       "34560   1111          3   3701     1      1             0              1    1   \n",
       "34561   1112          3  10620     1      1             0              1    1   \n",
       "34562   1113          3   8222     1      1             0              0    1   \n",
       "34563   1114          3  27071     1      1             0              0    1   \n",
       "34564   1115          3   7701     1      1             0              0    1   \n",
       "\n",
       "       Month  Year  \n",
       "0          7  2015  \n",
       "1          7  2015  \n",
       "2          7  2015  \n",
       "3          7  2015  \n",
       "4          7  2015  \n",
       "...      ...   ...  \n",
       "34560      7  2015  \n",
       "34561      7  2015  \n",
       "34562      7  2015  \n",
       "34563      7  2015  \n",
       "34564      7  2015  \n",
       "\n",
       "[34565 rows x 10 columns]"
      ]
     },
     "execution_count": 19,
     "metadata": {},
     "output_type": "execute_result"
    }
   ],
   "source": [
    "test"
   ]
  },
  {
   "cell_type": "code",
   "execution_count": 20,
   "id": "a40efbe9",
   "metadata": {},
   "outputs": [
    {
     "data": {
      "image/png": "[encoded data removed]",
      "text/plain": [
       "<Figure size 720x504 with 2 Axes>"
      ]
     },
     "metadata": {
      "needs_background": "light"
     },
     "output_type": "display_data"
    }
   ],
   "source": [
    "plt.figure(figsize=(10,7))\n",
    "sns.heatmap(train.corr(), annot=True, cmap='bwr')\n",
    "plt.show()"
   ]
  },
  {
   "cell_type": "code",
   "execution_count": 21,
   "id": "fe9284ef",
   "metadata": {},
   "outputs": [
    {
     "data": {
      "text/plain": [
       "(982644, 10)"
      ]
     },
     "execution_count": 21,
     "metadata": {},
     "output_type": "execute_result"
    }
   ],
   "source": [
    "train.shape"
   ]
  },
  {
   "cell_type": "code",
   "execution_count": 22,
   "id": "7d0b9786",
   "metadata": {},
   "outputs": [
    {
     "data": {
      "text/plain": [
       "(34565, 10)"
      ]
     },
     "execution_count": 22,
     "metadata": {},
     "output_type": "execute_result"
    }
   ],
   "source": [
    "test.shape"
   ]
  },
  {
   "cell_type": "code",
   "execution_count": 23,
   "id": "8dad3357",
   "metadata": {},
   "outputs": [],
   "source": [
    "X_train = train.drop('Sales', axis=1)\n",
    "y_train = train['Sales']\n",
    "\n",
    "X_test = test.drop('Sales', axis=1)\n",
    "y_test = test['Sales']"
   ]
  },
  {
   "cell_type": "code",
   "execution_count": 24,
   "id": "de24a89c",
   "metadata": {},
   "outputs": [
    {
     "data": {
      "text/html": [
       "<div>\n",
       "<style scoped>\n",
       "    .dataframe tbody tr th:only-of-type {\n",
       "        vertical-align: middle;\n",
       "    }\n",
       "\n",
       "    .dataframe tbody tr th {\n",
       "        vertical-align: top;\n",
       "    }\n",
       "\n",
       "    .dataframe thead th {\n",
       "        text-align: right;\n",
       "    }\n",
       "</style>\n",
       "<table border=\"1\" class=\"dataframe\">\n",
       "  <thead>\n",
       "    <tr style=\"text-align: right;\">\n",
       "      <th></th>\n",
       "      <th>Store</th>\n",
       "      <th>DayOfWeek</th>\n",
       "      <th>Open</th>\n",
       "      <th>Promo</th>\n",
       "      <th>StateHoliday</th>\n",
       "      <th>SchoolHoliday</th>\n",
       "      <th>Day</th>\n",
       "      <th>Month</th>\n",
       "      <th>Year</th>\n",
       "    </tr>\n",
       "  </thead>\n",
       "  <tbody>\n",
       "    <tr>\n",
       "      <th>0</th>\n",
       "      <td>1</td>\n",
       "      <td>5</td>\n",
       "      <td>1</td>\n",
       "      <td>1</td>\n",
       "      <td>0</td>\n",
       "      <td>1</td>\n",
       "      <td>31</td>\n",
       "      <td>7</td>\n",
       "      <td>2015</td>\n",
       "    </tr>\n",
       "    <tr>\n",
       "      <th>1</th>\n",
       "      <td>2</td>\n",
       "      <td>5</td>\n",
       "      <td>1</td>\n",
       "      <td>1</td>\n",
       "      <td>0</td>\n",
       "      <td>1</td>\n",
       "      <td>31</td>\n",
       "      <td>7</td>\n",
       "      <td>2015</td>\n",
       "    </tr>\n",
       "    <tr>\n",
       "      <th>2</th>\n",
       "      <td>3</td>\n",
       "      <td>5</td>\n",
       "      <td>1</td>\n",
       "      <td>1</td>\n",
       "      <td>0</td>\n",
       "      <td>1</td>\n",
       "      <td>31</td>\n",
       "      <td>7</td>\n",
       "      <td>2015</td>\n",
       "    </tr>\n",
       "    <tr>\n",
       "      <th>3</th>\n",
       "      <td>4</td>\n",
       "      <td>5</td>\n",
       "      <td>1</td>\n",
       "      <td>1</td>\n",
       "      <td>0</td>\n",
       "      <td>1</td>\n",
       "      <td>31</td>\n",
       "      <td>7</td>\n",
       "      <td>2015</td>\n",
       "    </tr>\n",
       "    <tr>\n",
       "      <th>4</th>\n",
       "      <td>5</td>\n",
       "      <td>5</td>\n",
       "      <td>1</td>\n",
       "      <td>1</td>\n",
       "      <td>0</td>\n",
       "      <td>1</td>\n",
       "      <td>31</td>\n",
       "      <td>7</td>\n",
       "      <td>2015</td>\n",
       "    </tr>\n",
       "  </tbody>\n",
       "</table>\n",
       "</div>"
      ],
      "text/plain": [
       "   Store  DayOfWeek  Open  Promo  StateHoliday  SchoolHoliday  Day  Month  \\\n",
       "0      1          5     1      1             0              1   31      7   \n",
       "1      2          5     1      1             0              1   31      7   \n",
       "2      3          5     1      1             0              1   31      7   \n",
       "3      4          5     1      1             0              1   31      7   \n",
       "4      5          5     1      1             0              1   31      7   \n",
       "\n",
       "   Year  \n",
       "0  2015  \n",
       "1  2015  \n",
       "2  2015  \n",
       "3  2015  \n",
       "4  2015  "
      ]
     },
     "execution_count": 24,
     "metadata": {},
     "output_type": "execute_result"
    }
   ],
   "source": [
    "X_test.head()"
   ]
  },
  {
   "cell_type": "code",
   "execution_count": 25,
   "id": "fd90bab9",
   "metadata": {},
   "outputs": [
    {
     "data": {
      "text/plain": [
       "0     5263\n",
       "1     6064\n",
       "2     8314\n",
       "3    13995\n",
       "4     4822\n",
       "Name: Sales, dtype: int64"
      ]
     },
     "execution_count": 25,
     "metadata": {},
     "output_type": "execute_result"
    }
   ],
   "source": [
    "y_test.head()"
   ]
  },
  {
   "cell_type": "markdown",
   "id": "882b596f",
   "metadata": {},
   "source": [
    "## Linear Regression Model"
   ]
  },
  {
   "cell_type": "code",
   "execution_count": 26,
   "id": "a5f99304",
   "metadata": {},
   "outputs": [
    {
     "name": "stdout",
     "output_type": "stream",
     "text": [
      "R-squared error for training set is:  0.14232980379971882\n",
      "RMSE for training set is:  2621.137687212003\n",
      "MAE for training set is:  1776.865895995101\n",
      "R-squared error for testing set is:  0.02689842490293093\n",
      "RMSE for testing set is:  2549.4005017873146\n",
      "MAE for testing set is:  1804.1885461004288\n"
     ]
    }
   ],
   "source": [
    "lr = LinearRegression()\n",
    "lr.fit(X_train, y_train)\n",
    "\n",
    "train_pred = lr.predict(X_train)\n",
    "print('R-squared error for training set is: ', r2_score(train_pred, y_train))\n",
    "print('RMSE for training set is: ', mean_squared_error( train_pred, y_train, squared=False))\n",
    "print('MAE for training set is: ',mean_absolute_error(train_pred, y_train))\n",
    "\n",
    "test_pred = lr.predict(X_test)\n",
    "print('R-squared error for testing set is: ', r2_score(test_pred, y_test))\n",
    "print('RMSE for testing set is: ', mean_squared_error( test_pred, y_test, squared=False))\n",
    "print('MAE for testing set is: ',mean_absolute_error(test_pred, y_test))\n",
    "\n",
    "\n",
    "# R-squared error for testing set is:  0.14708710706523198\n",
    "# RMSE for testing set is:  2519.953267141104\n",
    "# MAE for testing set is:  1731.4698261558028"
   ]
  },
  {
   "cell_type": "markdown",
   "id": "e8a8b682",
   "metadata": {},
   "source": [
    "## Regularization"
   ]
  },
  {
   "cell_type": "code",
   "execution_count": 27,
   "id": "ccb7ae06",
   "metadata": {},
   "outputs": [
    {
     "name": "stdout",
     "output_type": "stream",
     "text": [
      "R-squared error for training set is:  0.14232181700773672\n",
      "RMSE for training set is:  2621.137687282552\n",
      "MAE for training set is:  1776.864016580981\n",
      "R-squared error for testing set is:  0.026889704369615353\n",
      "RMSE for testing set is:  2549.3996635992853\n",
      "MAE for testing set is:  1804.1909321162188\n"
     ]
    }
   ],
   "source": [
    "ridge = Ridge()\n",
    "\n",
    "ridge.fit(X_train, y_train)\n",
    "\n",
    "train_pred = ridge.predict(X_train)\n",
    "print('R-squared error for training set is: ', r2_score(train_pred, y_train))\n",
    "print('RMSE for training set is: ', mean_squared_error( train_pred, y_train, squared=False))\n",
    "print('MAE for training set is: ',mean_absolute_error(train_pred, y_train))\n",
    "\n",
    "test_pred = ridge.predict(X_test)\n",
    "print('R-squared error for testing set is: ', r2_score(test_pred, y_test))\n",
    "print('RMSE for testing set is: ', mean_squared_error( test_pred, y_test, squared=False))\n",
    "print('MAE for testing set is: ',mean_absolute_error(test_pred, y_test))\n"
   ]
  },
  {
   "cell_type": "markdown",
   "id": "8f9d5552",
   "metadata": {},
   "source": [
    "## Applying Tree Based Regressor"
   ]
  },
  {
   "cell_type": "markdown",
   "id": "606a35c6",
   "metadata": {},
   "source": [
    "### Descision Tree Regressor"
   ]
  },
  {
   "cell_type": "code",
   "execution_count": 28,
   "id": "4d318b94",
   "metadata": {},
   "outputs": [
    {
     "name": "stdout",
     "output_type": "stream",
     "text": [
      "R-squared error for training set is:  0.3503383972300681\n",
      "RMSE for training set is:  2420.8069017508697\n",
      "MAE for training set is:  1599.3017455317668\n",
      "R-squared error for testing set is:  0.19157066953346258\n",
      "RMSE for testing set is:  2558.5621171228236\n",
      "MAE for testing set is:  1780.917715527327\n"
     ]
    }
   ],
   "source": [
    "dt_reg = DecisionTreeRegressor(max_depth=10,max_features=3000)\n",
    "\n",
    "dt_reg.fit(X_train, y_train)\n",
    "train_pred = dt_reg.predict(X_train)\n",
    "print('R-squared error for training set is: ', r2_score(train_pred, y_train))\n",
    "print('RMSE for training set is: ', mean_squared_error(train_pred, y_train, squared=False))\n",
    "print('MAE for training set is: ',mean_absolute_error(train_pred, y_train))\n",
    "\n",
    "test_pred = dt_reg.predict(X_test)\n",
    "print('R-squared error for testing set is: ', r2_score(test_pred, y_test))\n",
    "print('RMSE for testing set is: ', mean_squared_error( test_pred, y_test, squared=False))\n",
    "print('MAE for testing set is: ',mean_absolute_error(test_pred, y_test))\n"
   ]
  },
  {
   "cell_type": "markdown",
   "id": "f32adf0f",
   "metadata": {},
   "source": [
    "### Random Forest"
   ]
  },
  {
   "cell_type": "code",
   "execution_count": 29,
   "id": "7bb998c7",
   "metadata": {},
   "outputs": [
    {
     "name": "stdout",
     "output_type": "stream",
     "text": [
      "R-squared error for training set is:  0.35530070352060983\n",
      "RMSE for training set is:  2406.049254654109\n",
      "MAE for training set is:  1591.9613817117165 \n",
      "\n",
      "\n",
      "R-squared error for testing set is:  0.20599239822406235\n",
      "RMSE for testing set is:  2551.6677652075596\n",
      "MAE for testing set is:  1776.2206275785954\n"
     ]
    }
   ],
   "source": [
    "rf_reg = RandomForestRegressor(n_estimators=100,\n",
    "                               max_features=1000,\n",
    "                               max_depth=10\n",
    "                              )\n",
    "\n",
    "rf_reg.fit(X_train, y_train)\n",
    "test_pred = rf_reg.predict(X_test)\n",
    "\n",
    "train_pred = rf_reg.predict(X_train)\n",
    "print('R-squared error for training set is: ', r2_score(train_pred, y_train))\n",
    "print('RMSE for training set is: ', mean_squared_error( train_pred, y_train, squared=False))\n",
    "print('MAE for training set is: ',mean_absolute_error(train_pred, y_train),'\\n'*2)\n",
    "\n",
    "print('R-squared error for testing set is: ', r2_score(test_pred, y_test))\n",
    "print('RMSE for testing set is: ', mean_squared_error( test_pred, y_test, squared=False))\n",
    "print('MAE for testing set is: ',mean_absolute_error(test_pred, y_test))"
   ]
  },
  {
   "cell_type": "code",
   "execution_count": 30,
   "id": "82041351",
   "metadata": {},
   "outputs": [],
   "source": [
    "# from sklearn.model_selection import RandomizedSearchCV\n",
    "\n",
    "# n_estimators = [10, 20, 30, 50, 100]\n",
    "# # Number of features to consider at every split\n",
    "# max_features = ['auto', 'sqrt']\n",
    "# # Maximum number of levels in tree\n",
    "# max_depth = [int(x) for x in np.linspace(10, 100, num = 10)]\n",
    "# max_depth.append(None)\n",
    "# # Minimum number of samples required to split a node\n",
    "# min_samples_split = [2, 5, 10]\n",
    "# # Minimum number of samples required at each leaf node\n",
    "# min_samples_leaf = [1, 2, 4]\n",
    "# # Method of selecting samples for training each tree\n",
    "# bootstrap = [True, False]\n",
    "# # Create the random grid\n",
    "# random_grid = {'n_estimators': n_estimators,\n",
    "#                'max_features': max_features,\n",
    "#                'max_depth': max_depth,\n",
    "#                'min_samples_split': min_samples_split,\n",
    "#                'min_samples_leaf': min_samples_leaf,\n",
    "#                'bootstrap': bootstrap}\n",
    "# print(random_grid)"
   ]
  },
  {
   "cell_type": "code",
   "execution_count": 31,
   "id": "cd6f6ba5",
   "metadata": {},
   "outputs": [],
   "source": [
    "# rf = RandomForestRegressor()\n",
    "# rf_random = RandomizedSearchCV(estimator = rf, param_distributions = random_grid, n_iter = 100, \n",
    "#                                cv = 3, verbose=2, random_state=42, n_jobs = -1)\n",
    "# rf_random"
   ]
  },
  {
   "cell_type": "code",
   "execution_count": 32,
   "id": "8ac4b58f",
   "metadata": {},
   "outputs": [],
   "source": [
    "# rf_random.best_estimator_\n",
    "# rf_random.best_params_"
   ]
  },
  {
   "cell_type": "code",
   "execution_count": 33,
   "id": "a2b8cecf",
   "metadata": {},
   "outputs": [],
   "source": [
    "# rf_random.fit(X_train, y_train)\n",
    "# test_preds = rf_random.predict(X_test)\n",
    "\n",
    "# print('R-squared error for testing set is: ', r2_score(test_pred, y_test))\n",
    "# print('RMSE for testing set is: ', mean_squared_error( test_pred, y_test, squared=False))\n",
    "# print('MAE for testing set is: ',mean_absolute_error(test_pred, y_test))"
   ]
  },
  {
   "cell_type": "markdown",
   "id": "0f821d71",
   "metadata": {},
   "source": [
    "### ADA Boost"
   ]
  },
  {
   "cell_type": "code",
   "execution_count": 34,
   "id": "b8ccbc49",
   "metadata": {
    "scrolled": true
   },
   "outputs": [
    {
     "name": "stdout",
     "output_type": "stream",
     "text": [
      "R-squared error for testing set is:  -0.24434769420598457\n",
      "RMSE for testing set is:  3787.2128383080562\n",
      "MAE for testing set is:  3074.700502577465\n"
     ]
    }
   ],
   "source": [
    "ada = AdaBoostRegressor()\n",
    "ada.fit(X_train, y_train)\n",
    "test_pred = ada.predict(X_test)\n",
    "print('R-squared error for testing set is: ', r2_score(test_pred, y_test))\n",
    "print('RMSE for testing set is: ', mean_squared_error( test_pred, y_test, squared=False))\n",
    "print('MAE for testing set is: ',mean_absolute_error(test_pred, y_test))\n"
   ]
  },
  {
   "cell_type": "markdown",
   "id": "c0aa2f8a",
   "metadata": {},
   "source": [
    "### Gradient Boosting"
   ]
  },
  {
   "cell_type": "code",
   "execution_count": 35,
   "id": "41768cd7",
   "metadata": {},
   "outputs": [
    {
     "name": "stdout",
     "output_type": "stream",
     "text": [
      "R-squared error for testing set is:  0.7114974116733714\n",
      "RMSE for testing set is:  1603.3430073119118\n",
      "MAE for testing set is:  1143.9630196814726\n"
     ]
    }
   ],
   "source": [
    "gbr = GradientBoostingRegressor(max_depth=10,max_features=3000)\n",
    "gbr.fit(X_train, y_train)\n",
    "\n",
    "test_pred = gbr.predict(X_test)\n",
    "print('R-squared error for testing set is: ', r2_score(test_pred, y_test))\n",
    "print('RMSE for testing set is: ', mean_squared_error( test_pred, y_test, squared=False))\n",
    "print('MAE for testing set is: ',mean_absolute_error(test_pred, y_test))\n"
   ]
  },
  {
   "cell_type": "markdown",
   "id": "3817500e",
   "metadata": {},
   "source": [
    "# Deep Learning - ANN"
   ]
  },
  {
   "cell_type": "code",
   "execution_count": 36,
   "id": "b4a2122d",
   "metadata": {},
   "outputs": [],
   "source": [
    "import tensorflow as tf\n",
    "from tensorflow.keras.models import Sequential\n",
    "from tensorflow.keras.layers import Dense, Flatten, Dropout"
   ]
  },
  {
   "cell_type": "code",
   "execution_count": 37,
   "id": "e26f9b14",
   "metadata": {},
   "outputs": [],
   "source": [
    "from tensorflow.keras.models import Sequential\n",
    "from tensorflow.keras.layers import Dense, Flatten, Dropout "
   ]
  },
  {
   "cell_type": "markdown",
   "id": "1e3c7118",
   "metadata": {},
   "source": [
    "# ANN Model 1"
   ]
  },
  {
   "cell_type": "code",
   "execution_count": 38,
   "id": "52ecc9e5",
   "metadata": {},
   "outputs": [
    {
     "name": "stdout",
     "output_type": "stream",
     "text": [
      "Epoch 1/10\n",
      "15354/15354 [==============================] - 30s 2ms/step - loss: 9273100.0000\n",
      "Epoch 2/10\n",
      "15354/15354 [==============================] - 30s 2ms/step - loss: 7565577.5000\n",
      "Epoch 3/10\n",
      "15354/15354 [==============================] - 30s 2ms/step - loss: 7582293.0000\n",
      "Epoch 4/10\n",
      "15354/15354 [==============================] - 30s 2ms/step - loss: 7546819.5000\n",
      "Epoch 5/10\n",
      "15354/15354 [==============================] - 30s 2ms/step - loss: 7506089.0000\n",
      "Epoch 6/10\n",
      "15354/15354 [==============================] - 29s 2ms/step - loss: 7512459.0000\n",
      "Epoch 7/10\n",
      "15354/15354 [==============================] - 29s 2ms/step - loss: 7499404.0000\n",
      "Epoch 8/10\n",
      "15354/15354 [==============================] - 29s 2ms/step - loss: 7520709.0000\n",
      "Epoch 9/10\n",
      "15354/15354 [==============================] - 29s 2ms/step - loss: 7523685.5000\n",
      "Epoch 10/10\n",
      "15354/15354 [==============================] - 28s 2ms/step - loss: 7517074.0000\n"
     ]
    },
    {
     "data": {
      "text/plain": [
       "<keras.callbacks.History at 0x1fdb25afc40>"
      ]
     },
     "execution_count": 38,
     "metadata": {},
     "output_type": "execute_result"
    }
   ],
   "source": [
    "model = Sequential()\n",
    "model.add(Dense(128, input_shape=(X_train.shape[1],), activation='relu'))\n",
    "model.add(Dropout(0.2))\n",
    "model.add(Dense(64, activation='relu'))\n",
    "model.add(Dropout(0.2))\n",
    "model.add(Dense(1, activation='linear'))\n",
    "model.compile(optimizer='adam',loss=tf.keras.losses.mean_squared_error, )\n",
    "model.fit(X_train, y_train, batch_size=64 , epochs=10)"
   ]
  },
  {
   "cell_type": "code",
   "execution_count": 39,
   "id": "6d62c904",
   "metadata": {},
   "outputs": [
    {
     "name": "stdout",
     "output_type": "stream",
     "text": [
      "1081/1081 [==============================] - 1s 1ms/step\n",
      "MSE:  2572.7268818392636\n",
      "MAE:  1825.574748805082\n"
     ]
    }
   ],
   "source": [
    "preds = model.predict(X_test)\n",
    "print('MSE: ', mean_squared_error(preds, y_test, squared=False))\n",
    "print('MAE: ', mean_absolute_error(preds, y_test))"
   ]
  },
  {
   "cell_type": "markdown",
   "id": "87c5642a",
   "metadata": {},
   "source": [
    "# ANN model 2"
   ]
  },
  {
   "cell_type": "code",
   "execution_count": 40,
   "id": "6f765c0d",
   "metadata": {},
   "outputs": [
    {
     "name": "stdout",
     "output_type": "stream",
     "text": [
      "Epoch 1/10\n",
      "15354/15354 [==============================] - 28s 2ms/step - loss: 9525212.0000\n",
      "Epoch 2/10\n",
      "15354/15354 [==============================] - 28s 2ms/step - loss: 8147606.0000\n",
      "Epoch 3/10\n",
      "15354/15354 [==============================] - 28s 2ms/step - loss: 8081117.5000\n",
      "Epoch 4/10\n",
      "15354/15354 [==============================] - 28s 2ms/step - loss: 8014741.0000\n",
      "Epoch 5/10\n",
      "15354/15354 [==============================] - 28s 2ms/step - loss: 7973970.0000\n",
      "Epoch 6/10\n",
      "15354/15354 [==============================] - 28s 2ms/step - loss: 7919877.0000\n",
      "Epoch 7/10\n",
      "15354/15354 [==============================] - 28s 2ms/step - loss: 7849680.5000\n",
      "Epoch 8/10\n",
      "15354/15354 [==============================] - 28s 2ms/step - loss: 7759150.0000\n",
      "Epoch 9/10\n",
      "15354/15354 [==============================] - 29s 2ms/step - loss: 7703314.0000\n",
      "Epoch 10/10\n",
      "15354/15354 [==============================] - 29s 2ms/step - loss: 7662173.0000\n"
     ]
    },
    {
     "data": {
      "text/plain": [
       "<keras.callbacks.History at 0x1fdb3133400>"
      ]
     },
     "execution_count": 40,
     "metadata": {},
     "output_type": "execute_result"
    }
   ],
   "source": [
    "model = Sequential()\n",
    "model.add(Dense(128, input_shape=(X_train.shape[1],), activation='relu'))\n",
    "#model.add(Dropout(0.1))\n",
    "model.add(Dense(64, activation='relu'))\n",
    "model.add(Dropout(0.2))\n",
    "model.add(Dense(64, activation='relu'))\n",
    "model.add(Dropout(0.4))\n",
    "model.add(Dense(1, activation='linear'))\n",
    "model.compile(optimizer='adam',loss=tf.keras.losses.mean_squared_error, )\n",
    "model.fit(X_train, y_train, batch_size=64, epochs=10)"
   ]
  },
  {
   "cell_type": "code",
   "execution_count": 41,
   "id": "7763f7a8",
   "metadata": {},
   "outputs": [
    {
     "name": "stdout",
     "output_type": "stream",
     "text": [
      "1081/1081 [==============================] - 1s 941us/step\n",
      "MSE:  2540.786177958037\n",
      "MAE:  1665.9346506545603\n"
     ]
    }
   ],
   "source": [
    "preds = model.predict(X_test)\n",
    "print('MSE: ', mean_squared_error(preds, y_test, squared=False))\n",
    "print('MAE: ', mean_absolute_error(preds, y_test))"
   ]
  },
  {
   "cell_type": "markdown",
   "id": "6b101074",
   "metadata": {},
   "source": [
    "# ANN model 3"
   ]
  },
  {
   "cell_type": "code",
   "execution_count": 42,
   "id": "10748900",
   "metadata": {},
   "outputs": [
    {
     "name": "stdout",
     "output_type": "stream",
     "text": [
      "Epoch 1/10\n",
      "9827/9827 [==============================] - 17s 2ms/step - loss: 16415721.0000\n",
      "Epoch 2/10\n",
      "9827/9827 [==============================] - 18s 2ms/step - loss: 15131015.0000\n",
      "Epoch 3/10\n",
      "9827/9827 [==============================] - 17s 2ms/step - loss: 12401172.0000\n",
      "Epoch 4/10\n",
      "9827/9827 [==============================] - 17s 2ms/step - loss: 9739641.0000\n",
      "Epoch 5/10\n",
      "9827/9827 [==============================] - 18s 2ms/step - loss: 9003329.0000\n",
      "Epoch 6/10\n",
      "9827/9827 [==============================] - 17s 2ms/step - loss: 8664066.0000\n",
      "Epoch 7/10\n",
      "9827/9827 [==============================] - 17s 2ms/step - loss: 8361703.5000\n",
      "Epoch 8/10\n",
      "9827/9827 [==============================] - 16s 2ms/step - loss: 8221176.5000\n",
      "Epoch 9/10\n",
      "9827/9827 [==============================] - 16s 2ms/step - loss: 8046758.5000\n",
      "Epoch 10/10\n",
      "9827/9827 [==============================] - 16s 2ms/step - loss: 7833412.5000\n"
     ]
    },
    {
     "data": {
      "text/plain": [
       "<keras.callbacks.History at 0x1fdb3cc5b10>"
      ]
     },
     "execution_count": 42,
     "metadata": {},
     "output_type": "execute_result"
    }
   ],
   "source": [
    "model = Sequential()\n",
    "model.add(Dense(100, activation='relu', input_shape=(X_train.shape[1],)))\n",
    "#model.add(Dropout(0.1))\n",
    "model.add(Dense(64, activation='relu'))\n",
    "model.add(Dropout(0.2))\n",
    "model.add(Dense(1,activation='linear') )\n",
    "\n",
    "model.compile(optimizer='adam',loss=tf.keras.losses.mean_squared_error, )\n",
    "model.fit(X_train, y_train, batch_size=100, epochs=10,shuffle=False,verbose=1)"
   ]
  },
  {
   "cell_type": "code",
   "execution_count": 43,
   "id": "6a1cf590",
   "metadata": {},
   "outputs": [
    {
     "name": "stdout",
     "output_type": "stream",
     "text": [
      "1081/1081 [==============================] - 1s 946us/step\n",
      "MSE 3144.2763155864377\n",
      "MAE 2097.514723339106\n"
     ]
    }
   ],
   "source": [
    "preds = model.predict(X_test)\n",
    "print('MSE',np.sqrt(mean_squared_error(preds,y_test)))\n",
    "print('MAE',mean_absolute_error(preds,y_test))"
   ]
  },
  {
   "cell_type": "code",
   "execution_count": null,
   "id": "3f662cf3",
   "metadata": {},
   "outputs": [],
   "source": []
  }
 ],
 "metadata": {
  "kernelspec": {
   "display_name": "Python 3",
   "language": "python",
   "name": "python3"
  },
  "language_info": {
   "codemirror_mode": {
    "name": "ipython",
    "version": 3
   },
   "file_extension": ".py",
   "mimetype": "text/x-python",
   "name": "python",
   "nbconvert_exporter": "python",
   "pygments_lexer": "ipython3",
   "version": "3.8.8"
  }
 },
 "nbformat": 4,
 "nbformat_minor": 5
}
